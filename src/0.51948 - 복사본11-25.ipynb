{
 "cells": [
  {
   "cell_type": "code",
   "execution_count": 127,
   "metadata": {},
   "outputs": [],
   "source": [
    "import numpy as np \n",
    "import pandas as pd\n",
    "import matplotlib.pyplot as plt\n",
    "import seaborn as sns\n",
    "plt.style.use('fivethirtyeight')\n",
    "import warnings\n",
    "warnings.filterwarnings('ignore')\n",
    "%matplotlib inline\n",
    "from sklearn.model_selection import KFold\n",
    "import lightgbm as lgb\n",
    "from sklearn.metrics import accuracy_score"
   ]
  },
  {
   "cell_type": "code",
   "execution_count": 128,
   "metadata": {},
   "outputs": [],
   "source": [
    "train = pd.read_csv('PJT002_train.csv')\n",
    "val = pd.read_csv('PJT002_validation.csv')\n",
    "test = pd.read_csv('PJT002_test.csv')\n",
    "sub = pd.read_csv('PJT002_submission.csv')\n",
    "data = pd.concat([train, val])"
   ]
  },
  {
   "cell_type": "code",
   "execution_count": 129,
   "metadata": {},
   "outputs": [
    {
     "data": {
      "text/plain": [
       "0              NaN\n",
       "1       20011228.0\n",
       "2              NaN\n",
       "3              NaN\n",
       "4              NaN\n",
       "5       20000724.0\n",
       "6       19920615.0\n",
       "7           1930.0\n",
       "8       20010903.0\n",
       "9       19951104.0\n",
       "10      20010724.0\n",
       "11             NaN\n",
       "12      20021102.0\n",
       "13      20110801.0\n",
       "14      19251220.0\n",
       "15      20120719.0\n",
       "16      20130308.0\n",
       "17      19950204.0\n",
       "18      20051027.0\n",
       "19      19910625.0\n",
       "20      20150923.0\n",
       "21      19970217.0\n",
       "22             NaN\n",
       "23      20010329.0\n",
       "24      20110518.0\n",
       "25          1921.0\n",
       "26      20080423.0\n",
       "27      19341220.0\n",
       "28      20110105.0\n",
       "29      20121206.0\n",
       "           ...    \n",
       "2927    19940808.0\n",
       "2928    20011023.0\n",
       "2929           NaN\n",
       "2930           NaN\n",
       "2931    19431220.0\n",
       "2932    20020322.0\n",
       "2933    19740428.0\n",
       "2934    20110127.0\n",
       "2935    20000306.0\n",
       "2936    20010730.0\n",
       "2937    19331220.0\n",
       "2938    20041206.0\n",
       "2939    20080317.0\n",
       "2940    20161028.0\n",
       "2941    20020704.0\n",
       "2942           NaN\n",
       "2943    20091124.0\n",
       "2944    20000127.0\n",
       "2945    19980204.0\n",
       "2946           NaN\n",
       "2947    19920818.0\n",
       "2948    19971122.0\n",
       "2949    20011213.0\n",
       "2950    20130516.0\n",
       "2951    20020401.0\n",
       "2952    20010828.0\n",
       "2953           NaN\n",
       "2954    20120810.0\n",
       "2955    20090810.0\n",
       "2956    19980907.0\n",
       "Name: dt_of_athrztn, Length: 2957, dtype: float64"
      ]
     },
     "execution_count": 129,
     "metadata": {},
     "output_type": "execute_result"
    }
   ],
   "source": [
    "test['dt_of_athrztn']"
   ]
  },
  {
   "cell_type": "code",
   "execution_count": 111,
   "metadata": {},
   "outputs": [],
   "source": [
    "train = train.dropna(subset = ['dt_of_athrztn'])\n",
    "val = val.dropna(subset = ['dt_of_athrztn'])\n",
    "test = test.dropna(subset = ['dt_of_athrztn'])"
   ]
  },
  {
   "cell_type": "code",
   "execution_count": 112,
   "metadata": {},
   "outputs": [
    {
     "data": {
      "text/plain": [
       "171"
      ]
     },
     "execution_count": 112,
     "metadata": {},
     "output_type": "execute_result"
    }
   ],
   "source": [
    "\n",
    "train['dt_of_athrztn'] = train['dt_of_athrztn'].astype(str,inplace = True)\n",
    "\n",
    "train['dt_of_athrztn']=train['dt_of_athrztn'].str[:4]\n",
    "\n",
    "train['dt_of_athrztn'] = train['dt_of_athrztn'].astype(int,inplace = True)\n",
    "\n",
    "len(train['dt_of_athrztn'].unique())"
   ]
  },
  {
   "cell_type": "code",
   "execution_count": 113,
   "metadata": {},
   "outputs": [],
   "source": [
    "\n",
    "bins = np.linspace(1900,2019, 20)\n",
    "train['dt_of_athrztn'] = np.digitize(train['dt_of_athrztn'], bins)\n"
   ]
  },
  {
   "cell_type": "code",
   "execution_count": 114,
   "metadata": {},
   "outputs": [],
   "source": [
    "#val['dt_of_athrztn'].fillna(9999,inplace  = True)\n",
    "\n",
    "val['dt_of_athrztn'] = val['dt_of_athrztn'].astype(str,inplace = True)\n",
    "\n",
    "val['dt_of_athrztn']=val['dt_of_athrztn'].str[:4]\n",
    "\n",
    "val['dt_of_athrztn'] = val['dt_of_athrztn'].astype(int,inplace = True)\n",
    "\n",
    "len(val['dt_of_athrztn'].unique())\n",
    "\n",
    "bins = np.linspace(1900,2019, 20)\n",
    "val['dt_of_athrztn'] = np.digitize(val['dt_of_athrztn'], bins)\n",
    "\n",
    "#test['dt_of_athrztn'].fillna(9999,inplace  = True)\n",
    "\n",
    "test['dt_of_athrztn'] = test['dt_of_athrztn'].astype(str,inplace = True)\n",
    "\n",
    "test['dt_of_athrztn']=test['dt_of_athrztn'].str[:4]\n",
    "\n",
    "test['dt_of_athrztn'] = test['dt_of_athrztn'].astype(int,inplace = True)\n",
    "\n",
    "len(test['dt_of_athrztn'].unique())\n",
    "bins = np.linspace(1900,2019, 20)\n",
    "test['dt_of_athrztn'] = np.digitize(test['dt_of_athrztn'], bins)"
   ]
  },
  {
   "cell_type": "code",
   "execution_count": 115,
   "metadata": {},
   "outputs": [],
   "source": [
    "test = test.drop(['fr_yn'],1)"
   ]
  },
  {
   "cell_type": "code",
   "execution_count": 116,
   "metadata": {},
   "outputs": [],
   "source": [
    "data['dt_of_fr'] = pd.to_datetime(data['dt_of_fr'])\n",
    "train['dt_of_fr'] = pd.to_datetime(train['dt_of_fr'])\n",
    "val['dt_of_fr'] = pd.to_datetime(val['dt_of_fr'])\n",
    "test['dt_of_fr'] = pd.to_datetime(test['dt_of_fr'])\n",
    "\n"
   ]
  },
  {
   "cell_type": "code",
   "execution_count": 117,
   "metadata": {},
   "outputs": [],
   "source": [
    "categorical_cols1 = train.select_dtypes(['object']).columns\n",
    "for col in categorical_cols1:\n",
    "    train[col] = pd.Categorical(train[col]).codes\n",
    "\n",
    "\n",
    "train['DT_hour'] = (train['dt_of_fr'].dt.hour).astype(np.int8)\n",
    "train['DT_day_week'] = (train['dt_of_fr'].dt.dayofweek).astype(np.int8)\n",
    "train['DT_day_month'] = (train['dt_of_fr'].dt.day).astype(np.int8)\n",
    "train['DT_M'] = (train['dt_of_fr'].dt.month).astype(np.int8)\n",
    "train = train.drop('dt_of_fr', axis = 1)"
   ]
  },
  {
   "cell_type": "code",
   "execution_count": 118,
   "metadata": {},
   "outputs": [],
   "source": [
    "categorical_cols1 = val.select_dtypes(['object']).columns\n",
    "for col in categorical_cols1:\n",
    "    val[col] = pd.Categorical(val[col]).codes\n",
    "\n",
    "\n",
    "val['DT_hour'] = (val['dt_of_fr'].dt.hour).astype(np.int8)\n",
    "val['DT_day_week'] = (val['dt_of_fr'].dt.dayofweek).astype(np.int8)\n",
    "val['DT_day_month'] = (val['dt_of_fr'].dt.day).astype(np.int8)\n",
    "val['DT_M'] = (val['dt_of_fr'].dt.month).astype(np.int8)\n",
    "val = val.drop('dt_of_fr', axis = 1)"
   ]
  },
  {
   "cell_type": "code",
   "execution_count": 119,
   "metadata": {},
   "outputs": [],
   "source": [
    "categorical_cols1 = test.select_dtypes(['object']).columns\n",
    "for col in categorical_cols1:\n",
    "    test[col] = pd.Categorical(test[col]).codes\n",
    "\n",
    "\n",
    "test['DT_hour'] = (test['dt_of_fr'].dt.hour).astype(np.int8)\n",
    "test['DT_day_week'] = (test['dt_of_fr'].dt.dayofweek).astype(np.int8)\n",
    "test['DT_day_month'] = (test['dt_of_fr'].dt.day).astype(np.int8)\n",
    "test['DT_M'] = (test['dt_of_fr'].dt.month).astype(np.int8)\n",
    "test = test.drop('dt_of_fr', axis = 1)"
   ]
  },
  {
   "cell_type": "code",
   "execution_count": 120,
   "metadata": {},
   "outputs": [],
   "source": [
    "bins = np.linspace(0,800000, 1000)\n",
    "train['ttl_ar'] = np.digitize(train['ttl_ar'], bins)\n",
    "bins = np.linspace(0,800000, 1000)\n",
    "val['ttl_ar'] = np.digitize(val['ttl_ar'], bins)\n",
    "bins = np.linspace(0,800000, 1000)\n",
    "test['ttl_ar'] = np.digitize(test['ttl_ar'], bins)\n"
   ]
  },
  {
   "cell_type": "code",
   "execution_count": 20,
   "metadata": {},
   "outputs": [],
   "source": []
  },
  {
   "cell_type": "code",
   "execution_count": 21,
   "metadata": {},
   "outputs": [],
   "source": [
    "# # Scatter Plot TV\n",
    "# # x = TV, y = Sales\n",
    "# train.plot(kind='scatter', x='ttl_grnd_flr', y='fr_yn',alpha = 0.5,color = 'red')\n",
    "# plt.xlabel('TV')              # label = name of label\n",
    "# plt.ylabel('Sales')\n",
    "# plt.title('TV Sales Scatter Plot')            # title = title of plot"
   ]
  },
  {
   "cell_type": "code",
   "execution_count": 23,
   "metadata": {},
   "outputs": [],
   "source": [
    "\n",
    "# df_all = pd.concat([data,train,val,test])\n",
    "\n",
    "# categorical_cols = df_all.select_dtypes(['object']).columns\n",
    "# for col in categorical_cols:\n",
    "#     df_all[col] = pd.Categorical(df_all[col]).codes"
   ]
  },
  {
   "cell_type": "code",
   "execution_count": 24,
   "metadata": {},
   "outputs": [],
   "source": [
    "# df_all['DT_hour'] = (df_all['dt_of_fr'].dt.hour).astype(np.int8)\n",
    "# df_all['DT_day_week'] = (df_all['dt_of_fr'].dt.dayofweek).astype(np.int8)\n",
    "# df_all['DT_day_month'] = (df_all['dt_of_fr'].dt.day).astype(np.int8)\n",
    "# df_all['DT_M'] = (df_all['dt_of_fr'].dt.month).astype(np.int8)\n",
    "# df_all = df_all.drop('dt_of_fr', axis = 1)"
   ]
  },
  {
   "cell_type": "code",
   "execution_count": 121,
   "metadata": {},
   "outputs": [],
   "source": [
    "X_train = train.drop(['fr_yn'],axis = 1)\n",
    "X_test = val.drop(['fr_yn'],axis = 1)\n",
    "y_train = train['fr_yn']\n",
    "y_test = val['fr_yn']\n",
    "X = pd.concat([X_train,X_test])\n",
    "y = pd.concat([y_train,y_test])"
   ]
  },
  {
   "cell_type": "code",
   "execution_count": 122,
   "metadata": {},
   "outputs": [],
   "source": [
    "\n",
    "X_train.drop(['id'], axis = 1, inplace = True)\n",
    "test.drop(['id'], axis = 1, inplace = True)\n",
    "X_test.drop(['id'], axis = 1, inplace = True)"
   ]
  },
  {
   "cell_type": "code",
   "execution_count": 123,
   "metadata": {},
   "outputs": [
    {
     "name": "stdout",
     "output_type": "stream",
     "text": [
      "1 : F1 0.5131952902963866\n"
     ]
    }
   ],
   "source": [
    "#모델 생성 및 학습for i in range(300):\n",
    "    \n",
    "    import lightgbm as lgb\n",
    "    Lgb = lgb.LGBMClassifier(n_estimators=18, \n",
    "                             silent=False, \n",
    "                             random_state =10, \n",
    "                             max_depth=18,\n",
    "                             num_leaves=128,\n",
    "                             learning_rate = 0.1,\n",
    "                             objective='binary',\n",
    "                             metrics ='auc'\n",
    "                            )\n",
    "    model = Lgb.fit(X_train, y_train)\n",
    "\n",
    "#test를 통한 모델 검증\n",
    "    predictions = model.predict(X_test)\n",
    "    proba = model.predict_proba(X_test)\n",
    "    from sklearn.metrics import accuracy_score, roc_auc_score\n",
    "    from sklearn.metrics import f1_score, recall_score\n",
    "    score = roc_auc_score(y_test, predictions)\n",
    "    score2 = accuracy_score(y_test, predictions)\n",
    "    score3 = f1_score(y_test, predictions)\n",
    "    score4 = recall_score(y_test, predictions)\n",
    "#     print('roc_auc_score:',score)\n",
    "#     print('accuracy_score:',score2)\n",
    "    print(1,\":\",'F1', score3)\n",
    "    #print('recall', score4)"
   ]
  },
  {
   "cell_type": "code",
   "execution_count": 39,
   "metadata": {},
   "outputs": [
    {
     "data": {
      "text/plain": [
       "array([0, 0, 0, ..., 0, 0, 1], dtype=int8)"
      ]
     },
     "execution_count": 39,
     "metadata": {},
     "output_type": "execute_result"
    }
   ],
   "source": [
    "predictions\n",
    "#18\n",
    "# roc_auc_score: 0.6914737170414987\n",
    "# accuracy_score: 0.8153087851551174\n",
    "#F1 0.5074750830564785"
   ]
  },
  {
   "cell_type": "code",
   "execution_count": 40,
   "metadata": {},
   "outputs": [
    {
     "data": {
      "text/plain": [
       "array([[8.63597608e-01, 1.36402392e-01],\n",
       "       [9.99997053e-01, 2.94707722e-06],\n",
       "       [8.63618253e-01, 1.36381747e-01],\n",
       "       ...,\n",
       "       [9.28619866e-01, 7.13801338e-02],\n",
       "       [7.92463305e-01, 2.07536695e-01],\n",
       "       [4.41205862e-01, 5.58794138e-01]])"
      ]
     },
     "execution_count": 40,
     "metadata": {},
     "output_type": "execute_result"
    }
   ],
   "source": [
    "proba"
   ]
  },
  {
   "cell_type": "code",
   "execution_count": 124,
   "metadata": {},
   "outputs": [],
   "source": [
    "y = model.predict(test)\n",
    "y_prob = model.predict_proba(test)\n"
   ]
  },
  {
   "cell_type": "code",
   "execution_count": 125,
   "metadata": {},
   "outputs": [
    {
     "data": {
      "text/plain": [
       "array([0, 0, 0, ..., 0, 0, 1], dtype=int8)"
      ]
     },
     "execution_count": 125,
     "metadata": {},
     "output_type": "execute_result"
    }
   ],
   "source": [
    "y"
   ]
  },
  {
   "cell_type": "code",
   "execution_count": 49,
   "metadata": {},
   "outputs": [
    {
     "data": {
      "text/plain": [
       "array([[9.99997535e-01, 2.46466951e-06],\n",
       "       [2.01446828e-01, 7.98553172e-01],\n",
       "       [9.99996923e-01, 3.07727009e-06],\n",
       "       ...,\n",
       "       [8.85895661e-01, 1.14104339e-01],\n",
       "       [7.04475316e-01, 2.95524684e-01],\n",
       "       [5.53848974e-02, 9.44615103e-01]])"
      ]
     },
     "execution_count": 49,
     "metadata": {},
     "output_type": "execute_result"
    }
   ],
   "source": [
    "y_prob"
   ]
  },
  {
   "cell_type": "code",
   "execution_count": 50,
   "metadata": {},
   "outputs": [
    {
     "data": {
      "text/plain": [
       "array([0, 1, 0, ..., 0, 0, 1], dtype=int8)"
      ]
     },
     "execution_count": 50,
     "metadata": {},
     "output_type": "execute_result"
    }
   ],
   "source": [
    "y"
   ]
  },
  {
   "cell_type": "code",
   "execution_count": 52,
   "metadata": {},
   "outputs": [
    {
     "data": {
      "text/plain": [
       "array([[9.99999938e-01, 6.17229811e-08],\n",
       "       [7.35424038e-01, 2.64575962e-01],\n",
       "       [9.99959758e-01, 4.02423327e-05],\n",
       "       ...,\n",
       "       [9.96727257e-01, 3.27274313e-03],\n",
       "       [9.62001801e-01, 3.79981993e-02],\n",
       "       [6.34868527e-02, 9.36513147e-01]])"
      ]
     },
     "execution_count": 52,
     "metadata": {},
     "output_type": "execute_result"
    }
   ],
   "source": [
    "y_prob2"
   ]
  },
  {
   "cell_type": "code",
   "execution_count": 47,
   "metadata": {},
   "outputs": [],
   "source": [
    "y2 = model.predict(test)\n",
    "y_prob2 = model.predict_proba(test)\n"
   ]
  },
  {
   "cell_type": "code",
   "execution_count": 68,
   "metadata": {},
   "outputs": [],
   "source": [
    "a = pd.DataFrame((y_prob+ y_prob)/2)"
   ]
  },
  {
   "cell_type": "code",
   "execution_count": 69,
   "metadata": {},
   "outputs": [],
   "source": [
    "a['tf'] = a[0] < a[1]"
   ]
  },
  {
   "cell_type": "code",
   "execution_count": 73,
   "metadata": {},
   "outputs": [
    {
     "data": {
      "text/plain": [
       "0       False\n",
       "1        True\n",
       "2       False\n",
       "3       False\n",
       "4       False\n",
       "5       False\n",
       "6       False\n",
       "7       False\n",
       "8       False\n",
       "9       False\n",
       "10      False\n",
       "11      False\n",
       "12      False\n",
       "13      False\n",
       "14      False\n",
       "15       True\n",
       "16       True\n",
       "17       True\n",
       "18      False\n",
       "19      False\n",
       "20      False\n",
       "21      False\n",
       "22      False\n",
       "23      False\n",
       "24      False\n",
       "25      False\n",
       "26      False\n",
       "27      False\n",
       "28      False\n",
       "29      False\n",
       "        ...  \n",
       "2927     True\n",
       "2928    False\n",
       "2929    False\n",
       "2930    False\n",
       "2931    False\n",
       "2932     True\n",
       "2933    False\n",
       "2934    False\n",
       "2935    False\n",
       "2936    False\n",
       "2937    False\n",
       "2938    False\n",
       "2939    False\n",
       "2940    False\n",
       "2941     True\n",
       "2942    False\n",
       "2943    False\n",
       "2944    False\n",
       "2945    False\n",
       "2946    False\n",
       "2947    False\n",
       "2948     True\n",
       "2949     True\n",
       "2950    False\n",
       "2951     True\n",
       "2952    False\n",
       "2953    False\n",
       "2954    False\n",
       "2955    False\n",
       "2956     True\n",
       "Name: tf, Length: 2957, dtype: bool"
      ]
     },
     "execution_count": 73,
     "metadata": {},
     "output_type": "execute_result"
    }
   ],
   "source": [
    "a['tf']"
   ]
  },
  {
   "cell_type": "code",
   "execution_count": 63,
   "metadata": {},
   "outputs": [],
   "source": [
    "a['tf'] = a['tf'].map({False:'N',True:'Y'})"
   ]
  },
  {
   "cell_type": "code",
   "execution_count": 76,
   "metadata": {},
   "outputs": [],
   "source": [
    "sub['fr_yn'] = a['tf']"
   ]
  },
  {
   "cell_type": "code",
   "execution_count": 126,
   "metadata": {},
   "outputs": [
    {
     "ename": "ValueError",
     "evalue": "Length of values does not match length of index",
     "output_type": "error",
     "traceback": [
      "\u001b[1;31m---------------------------------------------------------------------------\u001b[0m",
      "\u001b[1;31mValueError\u001b[0m                                Traceback (most recent call last)",
      "\u001b[1;32m<ipython-input-126-01524c11e879>\u001b[0m in \u001b[0;36m<module>\u001b[1;34m\u001b[0m\n\u001b[1;32m----> 1\u001b[1;33m \u001b[0msub\u001b[0m\u001b[1;33m[\u001b[0m\u001b[1;34m'fr_yn'\u001b[0m\u001b[1;33m]\u001b[0m \u001b[1;33m=\u001b[0m \u001b[0my\u001b[0m\u001b[1;33m\u001b[0m\u001b[1;33m\u001b[0m\u001b[0m\n\u001b[0m\u001b[0;32m      2\u001b[0m \u001b[0msub\u001b[0m\u001b[1;33m[\u001b[0m\u001b[1;34m'fr_yn'\u001b[0m\u001b[1;33m]\u001b[0m \u001b[1;33m=\u001b[0m \u001b[0msub\u001b[0m\u001b[1;33m[\u001b[0m\u001b[1;34m'fr_yn'\u001b[0m\u001b[1;33m]\u001b[0m\u001b[1;33m.\u001b[0m\u001b[0mmap\u001b[0m\u001b[1;33m(\u001b[0m\u001b[1;33m{\u001b[0m\u001b[1;36m0\u001b[0m\u001b[1;33m:\u001b[0m\u001b[1;34m'N'\u001b[0m\u001b[1;33m,\u001b[0m \u001b[1;36m1\u001b[0m\u001b[1;33m:\u001b[0m\u001b[1;34m'Y'\u001b[0m\u001b[1;33m}\u001b[0m\u001b[1;33m)\u001b[0m\u001b[1;33m\u001b[0m\u001b[1;33m\u001b[0m\u001b[0m\n\u001b[0;32m      3\u001b[0m \u001b[0msub\u001b[0m\u001b[1;33m.\u001b[0m\u001b[0mhead\u001b[0m\u001b[1;33m(\u001b[0m\u001b[1;33m)\u001b[0m\u001b[1;33m\u001b[0m\u001b[1;33m\u001b[0m\u001b[0m\n",
      "\u001b[1;32mc:\\anaconda3\\lib\\site-packages\\pandas\\core\\frame.py\u001b[0m in \u001b[0;36m__setitem__\u001b[1;34m(self, key, value)\u001b[0m\n\u001b[0;32m   3368\u001b[0m         \u001b[1;32melse\u001b[0m\u001b[1;33m:\u001b[0m\u001b[1;33m\u001b[0m\u001b[1;33m\u001b[0m\u001b[0m\n\u001b[0;32m   3369\u001b[0m             \u001b[1;31m# set column\u001b[0m\u001b[1;33m\u001b[0m\u001b[1;33m\u001b[0m\u001b[1;33m\u001b[0m\u001b[0m\n\u001b[1;32m-> 3370\u001b[1;33m             \u001b[0mself\u001b[0m\u001b[1;33m.\u001b[0m\u001b[0m_set_item\u001b[0m\u001b[1;33m(\u001b[0m\u001b[0mkey\u001b[0m\u001b[1;33m,\u001b[0m \u001b[0mvalue\u001b[0m\u001b[1;33m)\u001b[0m\u001b[1;33m\u001b[0m\u001b[1;33m\u001b[0m\u001b[0m\n\u001b[0m\u001b[0;32m   3371\u001b[0m \u001b[1;33m\u001b[0m\u001b[0m\n\u001b[0;32m   3372\u001b[0m     \u001b[1;32mdef\u001b[0m \u001b[0m_setitem_slice\u001b[0m\u001b[1;33m(\u001b[0m\u001b[0mself\u001b[0m\u001b[1;33m,\u001b[0m \u001b[0mkey\u001b[0m\u001b[1;33m,\u001b[0m \u001b[0mvalue\u001b[0m\u001b[1;33m)\u001b[0m\u001b[1;33m:\u001b[0m\u001b[1;33m\u001b[0m\u001b[1;33m\u001b[0m\u001b[0m\n",
      "\u001b[1;32mc:\\anaconda3\\lib\\site-packages\\pandas\\core\\frame.py\u001b[0m in \u001b[0;36m_set_item\u001b[1;34m(self, key, value)\u001b[0m\n\u001b[0;32m   3443\u001b[0m \u001b[1;33m\u001b[0m\u001b[0m\n\u001b[0;32m   3444\u001b[0m         \u001b[0mself\u001b[0m\u001b[1;33m.\u001b[0m\u001b[0m_ensure_valid_index\u001b[0m\u001b[1;33m(\u001b[0m\u001b[0mvalue\u001b[0m\u001b[1;33m)\u001b[0m\u001b[1;33m\u001b[0m\u001b[1;33m\u001b[0m\u001b[0m\n\u001b[1;32m-> 3445\u001b[1;33m         \u001b[0mvalue\u001b[0m \u001b[1;33m=\u001b[0m \u001b[0mself\u001b[0m\u001b[1;33m.\u001b[0m\u001b[0m_sanitize_column\u001b[0m\u001b[1;33m(\u001b[0m\u001b[0mkey\u001b[0m\u001b[1;33m,\u001b[0m \u001b[0mvalue\u001b[0m\u001b[1;33m)\u001b[0m\u001b[1;33m\u001b[0m\u001b[1;33m\u001b[0m\u001b[0m\n\u001b[0m\u001b[0;32m   3446\u001b[0m         \u001b[0mNDFrame\u001b[0m\u001b[1;33m.\u001b[0m\u001b[0m_set_item\u001b[0m\u001b[1;33m(\u001b[0m\u001b[0mself\u001b[0m\u001b[1;33m,\u001b[0m \u001b[0mkey\u001b[0m\u001b[1;33m,\u001b[0m \u001b[0mvalue\u001b[0m\u001b[1;33m)\u001b[0m\u001b[1;33m\u001b[0m\u001b[1;33m\u001b[0m\u001b[0m\n\u001b[0;32m   3447\u001b[0m \u001b[1;33m\u001b[0m\u001b[0m\n",
      "\u001b[1;32mc:\\anaconda3\\lib\\site-packages\\pandas\\core\\frame.py\u001b[0m in \u001b[0;36m_sanitize_column\u001b[1;34m(self, key, value, broadcast)\u001b[0m\n\u001b[0;32m   3628\u001b[0m \u001b[1;33m\u001b[0m\u001b[0m\n\u001b[0;32m   3629\u001b[0m             \u001b[1;31m# turn me into an ndarray\u001b[0m\u001b[1;33m\u001b[0m\u001b[1;33m\u001b[0m\u001b[1;33m\u001b[0m\u001b[0m\n\u001b[1;32m-> 3630\u001b[1;33m             \u001b[0mvalue\u001b[0m \u001b[1;33m=\u001b[0m \u001b[0msanitize_index\u001b[0m\u001b[1;33m(\u001b[0m\u001b[0mvalue\u001b[0m\u001b[1;33m,\u001b[0m \u001b[0mself\u001b[0m\u001b[1;33m.\u001b[0m\u001b[0mindex\u001b[0m\u001b[1;33m,\u001b[0m \u001b[0mcopy\u001b[0m\u001b[1;33m=\u001b[0m\u001b[1;32mFalse\u001b[0m\u001b[1;33m)\u001b[0m\u001b[1;33m\u001b[0m\u001b[1;33m\u001b[0m\u001b[0m\n\u001b[0m\u001b[0;32m   3631\u001b[0m             \u001b[1;32mif\u001b[0m \u001b[1;32mnot\u001b[0m \u001b[0misinstance\u001b[0m\u001b[1;33m(\u001b[0m\u001b[0mvalue\u001b[0m\u001b[1;33m,\u001b[0m \u001b[1;33m(\u001b[0m\u001b[0mnp\u001b[0m\u001b[1;33m.\u001b[0m\u001b[0mndarray\u001b[0m\u001b[1;33m,\u001b[0m \u001b[0mIndex\u001b[0m\u001b[1;33m)\u001b[0m\u001b[1;33m)\u001b[0m\u001b[1;33m:\u001b[0m\u001b[1;33m\u001b[0m\u001b[1;33m\u001b[0m\u001b[0m\n\u001b[0;32m   3632\u001b[0m                 \u001b[1;32mif\u001b[0m \u001b[0misinstance\u001b[0m\u001b[1;33m(\u001b[0m\u001b[0mvalue\u001b[0m\u001b[1;33m,\u001b[0m \u001b[0mlist\u001b[0m\u001b[1;33m)\u001b[0m \u001b[1;32mand\u001b[0m \u001b[0mlen\u001b[0m\u001b[1;33m(\u001b[0m\u001b[0mvalue\u001b[0m\u001b[1;33m)\u001b[0m \u001b[1;33m>\u001b[0m \u001b[1;36m0\u001b[0m\u001b[1;33m:\u001b[0m\u001b[1;33m\u001b[0m\u001b[1;33m\u001b[0m\u001b[0m\n",
      "\u001b[1;32mc:\\anaconda3\\lib\\site-packages\\pandas\\core\\internals\\construction.py\u001b[0m in \u001b[0;36msanitize_index\u001b[1;34m(data, index, copy)\u001b[0m\n\u001b[0;32m    517\u001b[0m \u001b[1;33m\u001b[0m\u001b[0m\n\u001b[0;32m    518\u001b[0m     \u001b[1;32mif\u001b[0m \u001b[0mlen\u001b[0m\u001b[1;33m(\u001b[0m\u001b[0mdata\u001b[0m\u001b[1;33m)\u001b[0m \u001b[1;33m!=\u001b[0m \u001b[0mlen\u001b[0m\u001b[1;33m(\u001b[0m\u001b[0mindex\u001b[0m\u001b[1;33m)\u001b[0m\u001b[1;33m:\u001b[0m\u001b[1;33m\u001b[0m\u001b[1;33m\u001b[0m\u001b[0m\n\u001b[1;32m--> 519\u001b[1;33m         \u001b[1;32mraise\u001b[0m \u001b[0mValueError\u001b[0m\u001b[1;33m(\u001b[0m\u001b[1;34m'Length of values does not match length of index'\u001b[0m\u001b[1;33m)\u001b[0m\u001b[1;33m\u001b[0m\u001b[1;33m\u001b[0m\u001b[0m\n\u001b[0m\u001b[0;32m    520\u001b[0m \u001b[1;33m\u001b[0m\u001b[0m\n\u001b[0;32m    521\u001b[0m     \u001b[1;32mif\u001b[0m \u001b[0misinstance\u001b[0m\u001b[1;33m(\u001b[0m\u001b[0mdata\u001b[0m\u001b[1;33m,\u001b[0m \u001b[0mABCIndexClass\u001b[0m\u001b[1;33m)\u001b[0m \u001b[1;32mand\u001b[0m \u001b[1;32mnot\u001b[0m \u001b[0mcopy\u001b[0m\u001b[1;33m:\u001b[0m\u001b[1;33m\u001b[0m\u001b[1;33m\u001b[0m\u001b[0m\n",
      "\u001b[1;31mValueError\u001b[0m: Length of values does not match length of index"
     ]
    }
   ],
   "source": [
    "sub['fr_yn'] = y\n",
    "sub['fr_yn'] = sub['fr_yn'].map({0:'N', 1:'Y'})\n",
    "sub.head()"
   ]
  },
  {
   "cell_type": "code",
   "execution_count": 32,
   "metadata": {},
   "outputs": [],
   "source": [
    "sub.to_csv('tmddnjs94_화재예측과제_진우20파라미터.csv', index=False)"
   ]
  },
  {
   "cell_type": "code",
   "execution_count": 74,
   "metadata": {},
   "outputs": [],
   "source": [
    "a['tf']\n",
    "a['tf'] = pd.Categorical(a['tf']).codes"
   ]
  },
  {
   "cell_type": "code",
   "execution_count": 78,
   "metadata": {},
   "outputs": [],
   "source": [
    "sub['fr_yn'] = sub['fr_yn'].map({0:'N', 1:'Y'})"
   ]
  },
  {
   "cell_type": "code",
   "execution_count": 85,
   "metadata": {},
   "outputs": [
    {
     "name": "stdout",
     "output_type": "stream",
     "text": [
      "<class 'pandas.core.frame.DataFrame'>\n",
      "RangeIndex: 2957 entries, 0 to 2956\n",
      "Data columns (total 1 columns):\n",
      "fr_yn    2957 non-null object\n",
      "dtypes: object(1)\n",
      "memory usage: 23.2+ KB\n"
     ]
    }
   ],
   "source": [
    "sub.info()"
   ]
  }
 ],
 "metadata": {
  "kernelspec": {
   "display_name": "Python 3",
   "language": "python",
   "name": "python3"
  },
  "language_info": {
   "codemirror_mode": {
    "name": "ipython",
    "version": 3
   },
   "file_extension": ".py",
   "mimetype": "text/x-python",
   "name": "python",
   "nbconvert_exporter": "python",
   "pygments_lexer": "ipython3",
   "version": "3.6.8"
  },
  "toc": {
   "base_numbering": 1,
   "nav_menu": {},
   "number_sections": true,
   "sideBar": true,
   "skip_h1_title": false,
   "title_cell": "Table of Contents",
   "title_sidebar": "Contents",
   "toc_cell": false,
   "toc_position": {},
   "toc_section_display": true,
   "toc_window_display": false
  }
 },
 "nbformat": 4,
 "nbformat_minor": 2
}
