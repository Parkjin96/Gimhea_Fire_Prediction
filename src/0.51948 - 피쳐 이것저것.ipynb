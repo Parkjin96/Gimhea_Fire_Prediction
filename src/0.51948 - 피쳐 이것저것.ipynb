{
 "cells": [
  {
   "cell_type": "code",
   "execution_count": 1,
   "metadata": {},
   "outputs": [],
   "source": [
    "import numpy as np \n",
    "import pandas as pd\n",
    "import matplotlib.pyplot as plt\n",
    "import seaborn as sns\n",
    "plt.style.use('fivethirtyeight')\n",
    "import warnings\n",
    "warnings.filterwarnings('ignore')\n",
    "%matplotlib inline\n",
    "from sklearn.model_selection import KFold\n",
    "import lightgbm as lgb\n",
    "from sklearn.metrics import accuracy_score"
   ]
  },
  {
   "cell_type": "code",
   "execution_count": 2,
   "metadata": {},
   "outputs": [],
   "source": [
    "train = pd.read_csv('PJT002_train.csv')\n",
    "val = pd.read_csv('PJT002_validation.csv')\n",
    "test = pd.read_csv('PJT002_test.csv')\n",
    "sub = pd.read_csv('PJT002_submission.csv')\n",
    "data = pd.concat([train, val])"
   ]
  },
  {
   "cell_type": "code",
   "execution_count": 44,
   "metadata": {},
   "outputs": [],
   "source": [
    "df_Y = train[train['fr_yn'] == 'Y']\n",
    "df_N = train[train['fr_yn'] == 'N']\n",
    "df_N_sample = df_N.sample(frac = (len(df_Y)/len(df_N)) * (16/4)) #N과 Y 6대4샘플링\n",
    "train = pd.concat([df_N_sample,df_Y])"
   ]
  },
  {
   "cell_type": "code",
   "execution_count": 45,
   "metadata": {},
   "outputs": [],
   "source": [
    "train['dt_of_athrztn'].fillna(9999,inplace  = True)"
   ]
  },
  {
   "cell_type": "code",
   "execution_count": 46,
   "metadata": {},
   "outputs": [],
   "source": [
    "train['dt_of_athrztn'] = train['dt_of_athrztn'].astype(str,inplace = True)"
   ]
  },
  {
   "cell_type": "code",
   "execution_count": 47,
   "metadata": {},
   "outputs": [],
   "source": [
    "train['dt_of_athrztn']=train['dt_of_athrztn'].str[:4]"
   ]
  },
  {
   "cell_type": "code",
   "execution_count": null,
   "metadata": {},
   "outputs": [],
   "source": []
  },
  {
   "cell_type": "code",
   "execution_count": 48,
   "metadata": {},
   "outputs": [],
   "source": [
    "train['dt_of_athrztn'] = train['dt_of_athrztn'].astype(int,inplace = True)"
   ]
  },
  {
   "cell_type": "code",
   "execution_count": 52,
   "metadata": {},
   "outputs": [
    {
     "data": {
      "text/plain": [
       "array(['N'], dtype=object)"
      ]
     },
     "execution_count": 52,
     "metadata": {},
     "output_type": "execute_result"
    }
   ],
   "source": [
    "train[train['dt_of_athrztn'] == 9999]['fr_yn'].unique()"
   ]
  },
  {
   "cell_type": "code",
   "execution_count": 22,
   "metadata": {},
   "outputs": [
    {
     "data": {
      "text/plain": [
       "172"
      ]
     },
     "execution_count": 22,
     "metadata": {},
     "output_type": "execute_result"
    }
   ],
   "source": [
    "len(train['dt_of_athrztn'].unique())"
   ]
  },
  {
   "cell_type": "code",
   "execution_count": 23,
   "metadata": {},
   "outputs": [],
   "source": [
    "\n",
    "bins = np.linspace(1600,2019, 20)\n",
    "train['dt_of_athrztn'] = np.digitize(train['dt_of_athrztn'], bins)\n"
   ]
  },
  {
   "cell_type": "code",
   "execution_count": 54,
   "metadata": {},
   "outputs": [],
   "source": [
    "val['dt_of_athrztn'].fillna(9999,inplace  = True)"
   ]
  },
  {
   "cell_type": "code",
   "execution_count": 56,
   "metadata": {},
   "outputs": [],
   "source": [
    "test['dt_of_athrztn'].fillna(9999,inplace  = True)"
   ]
  },
  {
   "cell_type": "code",
   "execution_count": 57,
   "metadata": {},
   "outputs": [
    {
     "data": {
      "text/plain": [
       "array([nan])"
      ]
     },
     "execution_count": 57,
     "metadata": {},
     "output_type": "execute_result"
    }
   ],
   "source": [
    "test[test['dt_of_athrztn'] == 9999]['fr_yn'].unique()"
   ]
  },
  {
   "cell_type": "code",
   "execution_count": 55,
   "metadata": {},
   "outputs": [
    {
     "data": {
      "text/plain": [
       "array(['N'], dtype=object)"
      ]
     },
     "execution_count": 55,
     "metadata": {},
     "output_type": "execute_result"
    }
   ],
   "source": [
    "val[val['dt_of_athrztn'] == 9999]['fr_yn'].unique()"
   ]
  },
  {
   "cell_type": "code",
   "execution_count": 24,
   "metadata": {},
   "outputs": [],
   "source": [
    "val['dt_of_athrztn'].fillna(9999,inplace  = True)\n",
    "\n",
    "val['dt_of_athrztn'] = val['dt_of_athrztn'].astype(str,inplace = True)\n",
    "\n",
    "val['dt_of_athrztn']=val['dt_of_athrztn'].str[:4]\n",
    "\n",
    "val['dt_of_athrztn'] = val['dt_of_athrztn'].astype(int,inplace = True)\n",
    "\n",
    "len(val['dt_of_athrztn'].unique())\n",
    "\n",
    "bins = np.linspace(1600,2019, 20)\n",
    "val['dt_of_athrztn'] = np.digitize(val['dt_of_athrztn'], bins)\n",
    "\n",
    "test['dt_of_athrztn'].fillna(9999,inplace  = True)\n",
    "\n",
    "test['dt_of_athrztn'] = test['dt_of_athrztn'].astype(str,inplace = True)\n",
    "\n",
    "test['dt_of_athrztn']=test['dt_of_athrztn'].str[:4]\n",
    "\n",
    "test['dt_of_athrztn'] = test['dt_of_athrztn'].astype(int,inplace = True)\n",
    "\n",
    "len(test['dt_of_athrztn'].unique())\n",
    "bins = np.linspace(1600,2019, 20)\n",
    "test['dt_of_athrztn'] = np.digitize(test['dt_of_athrztn'], bins)"
   ]
  },
  {
   "cell_type": "code",
   "execution_count": 10,
   "metadata": {},
   "outputs": [],
   "source": [
    "test = test.drop(['fr_yn'],1)"
   ]
  },
  {
   "cell_type": "code",
   "execution_count": 3,
   "metadata": {},
   "outputs": [],
   "source": [
    "data['dt_of_fr'] = pd.to_datetime(data['dt_of_fr'])\n",
    "train['dt_of_fr'] = pd.to_datetime(train['dt_of_fr'])\n",
    "val['dt_of_fr'] = pd.to_datetime(val['dt_of_fr'])\n",
    "test['dt_of_fr'] = pd.to_datetime(test['dt_of_fr'])\n",
    "\n"
   ]
  },
  {
   "cell_type": "code",
   "execution_count": 4,
   "metadata": {},
   "outputs": [],
   "source": [
    "categorical_cols1 = train.select_dtypes(['object']).columns\n",
    "for col in categorical_cols1:\n",
    "    train[col] = pd.Categorical(train[col]).codes\n",
    "\n",
    "\n",
    "train['DT_hour'] = (train['dt_of_fr'].dt.hour).astype(np.int8)\n",
    "train['DT_day_week'] = (train['dt_of_fr'].dt.dayofweek).astype(np.int8)\n",
    "train['DT_day_month'] = (train['dt_of_fr'].dt.day).astype(np.int8)\n",
    "train['DT_M'] = (train['dt_of_fr'].dt.month).astype(np.int8)\n",
    "train = train.drop('dt_of_fr', axis = 1)"
   ]
  },
  {
   "cell_type": "code",
   "execution_count": 7,
   "metadata": {},
   "outputs": [],
   "source": [
    "train['train_yn'] = 0"
   ]
  },
  {
   "cell_type": "code",
   "execution_count": 9,
   "metadata": {},
   "outputs": [],
   "source": [
    "train['train_yn'][train['prcpttn'] != 0] = 1"
   ]
  },
  {
   "cell_type": "code",
   "execution_count": 10,
   "metadata": {},
   "outputs": [
    {
     "data": {
      "text/html": [
       "<div>\n",
       "<style scoped>\n",
       "    .dataframe tbody tr th:only-of-type {\n",
       "        vertical-align: middle;\n",
       "    }\n",
       "\n",
       "    .dataframe tbody tr th {\n",
       "        vertical-align: top;\n",
       "    }\n",
       "\n",
       "    .dataframe thead th {\n",
       "        text-align: right;\n",
       "    }\n",
       "</style>\n",
       "<table border=\"1\" class=\"dataframe\">\n",
       "  <thead>\n",
       "    <tr style=\"text-align: right;\">\n",
       "      <th></th>\n",
       "      <th>fr_yn</th>\n",
       "      <th>bldng_us</th>\n",
       "      <th>bldng_archtctr</th>\n",
       "      <th>bldng_cnt</th>\n",
       "      <th>bldng_ar</th>\n",
       "      <th>ttl_ar</th>\n",
       "      <th>lnd_ar</th>\n",
       "      <th>dt_of_athrztn</th>\n",
       "      <th>ttl_grnd_flr</th>\n",
       "      <th>ttl_dwn_flr</th>\n",
       "      <th>...</th>\n",
       "      <th>fr_fghtng_fclt_spcl_css_6_yn</th>\n",
       "      <th>us_yn</th>\n",
       "      <th>dngrs_thng_yn</th>\n",
       "      <th>slf_fr_brgd_yn</th>\n",
       "      <th>blk_dngrs_thng_mnfctr_yn</th>\n",
       "      <th>cltrl_hrtg_yn</th>\n",
       "      <th>DT_hour</th>\n",
       "      <th>DT_day_week</th>\n",
       "      <th>DT_day_month</th>\n",
       "      <th>DT_M</th>\n",
       "    </tr>\n",
       "    <tr>\n",
       "      <th>train_yn</th>\n",
       "      <th></th>\n",
       "      <th></th>\n",
       "      <th></th>\n",
       "      <th></th>\n",
       "      <th></th>\n",
       "      <th></th>\n",
       "      <th></th>\n",
       "      <th></th>\n",
       "      <th></th>\n",
       "      <th></th>\n",
       "      <th></th>\n",
       "      <th></th>\n",
       "      <th></th>\n",
       "      <th></th>\n",
       "      <th></th>\n",
       "      <th></th>\n",
       "      <th></th>\n",
       "      <th></th>\n",
       "      <th></th>\n",
       "      <th></th>\n",
       "      <th></th>\n",
       "    </tr>\n",
       "  </thead>\n",
       "  <tbody>\n",
       "    <tr>\n",
       "      <th>0</th>\n",
       "      <td>0.092293</td>\n",
       "      <td>5.751595</td>\n",
       "      <td>4.081492</td>\n",
       "      <td>3.402553</td>\n",
       "      <td>494.496536</td>\n",
       "      <td>1249.739304</td>\n",
       "      <td>3960.888739</td>\n",
       "      <td>2516.921453</td>\n",
       "      <td>2.817116</td>\n",
       "      <td>0.121573</td>\n",
       "      <td>...</td>\n",
       "      <td>-0.854197</td>\n",
       "      <td>-0.56701</td>\n",
       "      <td>-0.837506</td>\n",
       "      <td>-0.837997</td>\n",
       "      <td>-0.837506</td>\n",
       "      <td>-0.837997</td>\n",
       "      <td>11.838979</td>\n",
       "      <td>2.762396</td>\n",
       "      <td>16.386843</td>\n",
       "      <td>7.366716</td>\n",
       "    </tr>\n",
       "    <tr>\n",
       "      <th>1</th>\n",
       "      <td>0.130664</td>\n",
       "      <td>6.286694</td>\n",
       "      <td>4.367937</td>\n",
       "      <td>3.455757</td>\n",
       "      <td>638.518442</td>\n",
       "      <td>2521.726481</td>\n",
       "      <td>29892.556718</td>\n",
       "      <td>2576.632536</td>\n",
       "      <td>3.206713</td>\n",
       "      <td>0.132858</td>\n",
       "      <td>...</td>\n",
       "      <td>-0.857598</td>\n",
       "      <td>-0.55906</td>\n",
       "      <td>-0.835083</td>\n",
       "      <td>-0.835170</td>\n",
       "      <td>-0.835170</td>\n",
       "      <td>-0.835153</td>\n",
       "      <td>11.682044</td>\n",
       "      <td>3.000892</td>\n",
       "      <td>15.695305</td>\n",
       "      <td>6.439225</td>\n",
       "    </tr>\n",
       "  </tbody>\n",
       "</table>\n",
       "<p>2 rows × 183 columns</p>\n",
       "</div>"
      ],
      "text/plain": [
       "             fr_yn  bldng_us  bldng_archtctr  bldng_cnt    bldng_ar  \\\n",
       "train_yn                                                              \n",
       "0         0.092293  5.751595        4.081492   3.402553  494.496536   \n",
       "1         0.130664  6.286694        4.367937   3.455757  638.518442   \n",
       "\n",
       "               ttl_ar        lnd_ar  dt_of_athrztn  ttl_grnd_flr  ttl_dwn_flr  \\\n",
       "train_yn                                                                        \n",
       "0         1249.739304   3960.888739    2516.921453      2.817116     0.121573   \n",
       "1         2521.726481  29892.556718    2576.632536      3.206713     0.132858   \n",
       "\n",
       "          ...  fr_fghtng_fclt_spcl_css_6_yn    us_yn  dngrs_thng_yn  \\\n",
       "train_yn  ...                                                         \n",
       "0         ...                     -0.854197 -0.56701      -0.837506   \n",
       "1         ...                     -0.857598 -0.55906      -0.835083   \n",
       "\n",
       "          slf_fr_brgd_yn  blk_dngrs_thng_mnfctr_yn  cltrl_hrtg_yn    DT_hour  \\\n",
       "train_yn                                                                       \n",
       "0              -0.837997                 -0.837506      -0.837997  11.838979   \n",
       "1              -0.835170                 -0.835170      -0.835153  11.682044   \n",
       "\n",
       "          DT_day_week  DT_day_month      DT_M  \n",
       "train_yn                                       \n",
       "0            2.762396     16.386843  7.366716  \n",
       "1            3.000892     15.695305  6.439225  \n",
       "\n",
       "[2 rows x 183 columns]"
      ]
     },
     "execution_count": 10,
     "metadata": {},
     "output_type": "execute_result"
    }
   ],
   "source": [
    "train.groupby('train_yn').sum() / train.groupby('train_yn').count()"
   ]
  },
  {
   "cell_type": "code",
   "execution_count": 13,
   "metadata": {},
   "outputs": [],
   "source": [
    "categorical_cols1 = val.select_dtypes(['object']).columns\n",
    "for col in categorical_cols1:\n",
    "    val[col] = pd.Categorical(val[col]).codes\n",
    "\n",
    "\n",
    "val['DT_hour'] = (val['dt_of_fr'].dt.hour).astype(np.int8)\n",
    "val['DT_day_week'] = (val['dt_of_fr'].dt.dayofweek).astype(np.int8)\n",
    "val['DT_day_month'] = (val['dt_of_fr'].dt.day).astype(np.int8)\n",
    "val['DT_M'] = (val['dt_of_fr'].dt.month).astype(np.int8)\n",
    "val = val.drop('dt_of_fr', axis = 1)"
   ]
  },
  {
   "cell_type": "code",
   "execution_count": 14,
   "metadata": {},
   "outputs": [],
   "source": [
    "categorical_cols1 = test.select_dtypes(['object']).columns\n",
    "for col in categorical_cols1:\n",
    "    test[col] = pd.Categorical(test[col]).codes\n",
    "\n",
    "\n",
    "test['DT_hour'] = (test['dt_of_fr'].dt.hour).astype(np.int8)\n",
    "test['DT_day_week'] = (test['dt_of_fr'].dt.dayofweek).astype(np.int8)\n",
    "test['DT_day_month'] = (test['dt_of_fr'].dt.day).astype(np.int8)\n",
    "test['DT_M'] = (test['dt_of_fr'].dt.month).astype(np.int8)\n",
    "test = test.drop('dt_of_fr', axis = 1)"
   ]
  },
  {
   "cell_type": "code",
   "execution_count": 640,
   "metadata": {},
   "outputs": [
    {
     "data": {
      "application/vnd.jupyter.widget-view+json": {
       "model_id": "c09d4d5b02e04cf3a9029df2e2702d4b",
       "version_major": 2,
       "version_minor": 0
      },
      "text/plain": [
       "HBox(children=(IntProgress(value=0, max=5), HTML(value='')))"
      ]
     },
     "metadata": {},
     "output_type": "display_data"
    },
    {
     "data": {
      "application/vnd.jupyter.widget-view+json": {
       "model_id": "784d585364bb4f46ab3d07431fd98100",
       "version_major": 2,
       "version_minor": 0
      },
      "text/plain": [
       "HBox(children=(IntProgress(value=0, max=3), HTML(value='')))"
      ]
     },
     "metadata": {},
     "output_type": "display_data"
    },
    {
     "data": {
      "application/vnd.jupyter.widget-view+json": {
       "model_id": "99ea98333938464fb4fe8ff21ff1343f",
       "version_major": 2,
       "version_minor": 0
      },
      "text/plain": [
       "HBox(children=(IntProgress(value=0, max=3), HTML(value='')))"
      ]
     },
     "metadata": {},
     "output_type": "display_data"
    },
    {
     "data": {
      "application/vnd.jupyter.widget-view+json": {
       "model_id": "fea0f044e17e4071adc63661621dc833",
       "version_major": 2,
       "version_minor": 0
      },
      "text/plain": [
       "HBox(children=(IntProgress(value=0, max=3), HTML(value='')))"
      ]
     },
     "metadata": {},
     "output_type": "display_data"
    },
    {
     "data": {
      "application/vnd.jupyter.widget-view+json": {
       "model_id": "e12dfa9172ed4e1aac33e2336145d8f9",
       "version_major": 2,
       "version_minor": 0
      },
      "text/plain": [
       "HBox(children=(IntProgress(value=0, max=3), HTML(value='')))"
      ]
     },
     "metadata": {},
     "output_type": "display_data"
    },
    {
     "data": {
      "application/vnd.jupyter.widget-view+json": {
       "model_id": "108741132c7d4f2eaae1a2077d6d0d4f",
       "version_major": 2,
       "version_minor": 0
      },
      "text/plain": [
       "HBox(children=(IntProgress(value=0, max=3), HTML(value='')))"
      ]
     },
     "metadata": {},
     "output_type": "display_data"
    },
    {
     "name": "stdout",
     "output_type": "stream",
     "text": [
      "\n"
     ]
    }
   ],
   "source": [
    "from tqdm import tqdm_notebook\n",
    "for i in tqdm_notebook((4,5,6,7,8)):\n",
    "    for j in tqdm_notebook((10,11,12)):\n",
    "        bins = np.linspace(0, 1000000, 1000)\n",
    "        train['gas_engry_us_201%s%s'%(i,j)] = np.digitize(train['gas_engry_us_201%s%s'%(i,j)], bins)\n",
    "        bins = np.linspace(0, 1000000, 1000)\n",
    "        val['gas_engry_us_201%s%s'%(i,j)] = np.digitize(val['gas_engry_us_201%s%s'%(i,j)], bins)\n",
    "        bins = np.linspace(0, 1000000, 1000)\n",
    "        test['gas_engry_us_201%s%s'%(i,j)] = np.digitize(test['gas_engry_us_201%s%s'%(i,j)], bins)\n",
    "        "
   ]
  },
  {
   "cell_type": "code",
   "execution_count": 641,
   "metadata": {},
   "outputs": [
    {
     "data": {
      "application/vnd.jupyter.widget-view+json": {
       "model_id": "bfeeb3cfa46f453799c6fb0083f72c91",
       "version_major": 2,
       "version_minor": 0
      },
      "text/plain": [
       "HBox(children=(IntProgress(value=0, max=5), HTML(value='')))"
      ]
     },
     "metadata": {},
     "output_type": "display_data"
    },
    {
     "data": {
      "application/vnd.jupyter.widget-view+json": {
       "model_id": "0d3bf93acf4b4d468f67fdd20b2c2fe7",
       "version_major": 2,
       "version_minor": 0
      },
      "text/plain": [
       "HBox(children=(IntProgress(value=0, max=9), HTML(value='')))"
      ]
     },
     "metadata": {},
     "output_type": "display_data"
    },
    {
     "data": {
      "application/vnd.jupyter.widget-view+json": {
       "model_id": "b33b08c75c1b4b9a9a18015eebef5382",
       "version_major": 2,
       "version_minor": 0
      },
      "text/plain": [
       "HBox(children=(IntProgress(value=0, max=9), HTML(value='')))"
      ]
     },
     "metadata": {},
     "output_type": "display_data"
    },
    {
     "data": {
      "application/vnd.jupyter.widget-view+json": {
       "model_id": "fe0b8a0d3b5f40c1af3e8f30e55aad42",
       "version_major": 2,
       "version_minor": 0
      },
      "text/plain": [
       "HBox(children=(IntProgress(value=0, max=9), HTML(value='')))"
      ]
     },
     "metadata": {},
     "output_type": "display_data"
    },
    {
     "data": {
      "application/vnd.jupyter.widget-view+json": {
       "model_id": "85eec34fb9664eb6b664a5c7e3269e5b",
       "version_major": 2,
       "version_minor": 0
      },
      "text/plain": [
       "HBox(children=(IntProgress(value=0, max=9), HTML(value='')))"
      ]
     },
     "metadata": {},
     "output_type": "display_data"
    },
    {
     "data": {
      "application/vnd.jupyter.widget-view+json": {
       "model_id": "ac9d5db61034441dafc64bd052d702a3",
       "version_major": 2,
       "version_minor": 0
      },
      "text/plain": [
       "HBox(children=(IntProgress(value=0, max=9), HTML(value='')))"
      ]
     },
     "metadata": {},
     "output_type": "display_data"
    },
    {
     "name": "stdout",
     "output_type": "stream",
     "text": [
      "\n"
     ]
    }
   ],
   "source": [
    "from tqdm import tqdm_notebook\n",
    "for i in tqdm_notebook((4,5,6,7,8)):\n",
    "    for j in tqdm_notebook((1,2,3,4,5,6,7,8,9)):\n",
    "        bins = np.linspace(0, 1000000, 1000)\n",
    "        train['gas_engry_us_201%s0%s'%(i,j)] = np.digitize(train['gas_engry_us_201%s0%s'%(i,j)], bins)\n",
    "        bins = np.linspace(0, 1000000, 1000)\n",
    "        val['gas_engry_us_201%s0%s'%(i,j)] = np.digitize(val['gas_engry_us_201%s0%s'%(i,j)], bins)\n",
    "        bins = np.linspace(0, 1000000, 1000)\n",
    "        test['gas_engry_us_201%s0%s'%(i,j)] = np.digitize(test['gas_engry_us_201%s0%s'%(i,j)], bins)"
   ]
  },
  {
   "cell_type": "code",
   "execution_count": 642,
   "metadata": {},
   "outputs": [
    {
     "data": {
      "application/vnd.jupyter.widget-view+json": {
       "model_id": "0eb4204e9cb6475da739d477e44bad08",
       "version_major": 2,
       "version_minor": 0
      },
      "text/plain": [
       "HBox(children=(IntProgress(value=0, max=5), HTML(value='')))"
      ]
     },
     "metadata": {},
     "output_type": "display_data"
    },
    {
     "data": {
      "application/vnd.jupyter.widget-view+json": {
       "model_id": "ea51170def5442058986da0152ff6d6b",
       "version_major": 2,
       "version_minor": 0
      },
      "text/plain": [
       "HBox(children=(IntProgress(value=0, max=3), HTML(value='')))"
      ]
     },
     "metadata": {},
     "output_type": "display_data"
    },
    {
     "data": {
      "application/vnd.jupyter.widget-view+json": {
       "model_id": "ac5718b88c02468796c2b29cdbec4692",
       "version_major": 2,
       "version_minor": 0
      },
      "text/plain": [
       "HBox(children=(IntProgress(value=0, max=3), HTML(value='')))"
      ]
     },
     "metadata": {},
     "output_type": "display_data"
    },
    {
     "data": {
      "application/vnd.jupyter.widget-view+json": {
       "model_id": "21f1ea29b33347a8a989bc0b53d4a837",
       "version_major": 2,
       "version_minor": 0
      },
      "text/plain": [
       "HBox(children=(IntProgress(value=0, max=3), HTML(value='')))"
      ]
     },
     "metadata": {},
     "output_type": "display_data"
    },
    {
     "data": {
      "application/vnd.jupyter.widget-view+json": {
       "model_id": "8436af26e9af45298518b09a6bbc6418",
       "version_major": 2,
       "version_minor": 0
      },
      "text/plain": [
       "HBox(children=(IntProgress(value=0, max=3), HTML(value='')))"
      ]
     },
     "metadata": {},
     "output_type": "display_data"
    },
    {
     "data": {
      "application/vnd.jupyter.widget-view+json": {
       "model_id": "9065b9c2d9b148ce92271f0a8710db97",
       "version_major": 2,
       "version_minor": 0
      },
      "text/plain": [
       "HBox(children=(IntProgress(value=0, max=3), HTML(value='')))"
      ]
     },
     "metadata": {},
     "output_type": "display_data"
    },
    {
     "name": "stdout",
     "output_type": "stream",
     "text": [
      "\n"
     ]
    }
   ],
   "source": [
    "from tqdm import tqdm_notebook\n",
    "for i in tqdm_notebook((4,5,6,7,8)):\n",
    "    for j in tqdm_notebook((10,11,12)):\n",
    "        bins = np.linspace(0, 1000000, 1000)\n",
    "        train['ele_engry_us_201%s%s'%(i,j)] = np.digitize(train['ele_engry_us_201%s%s'%(i,j)], bins)\n",
    "        bins = np.linspace(0, 1000000, 1000)\n",
    "        val['ele_engry_us_201%s%s'%(i,j)] = np.digitize(val['ele_engry_us_201%s%s'%(i,j)], bins)\n",
    "        bins = np.linspace(0, 1000000, 1000)\n",
    "        test['ele_engry_us_201%s%s'%(i,j)] = np.digitize(test['ele_engry_us_201%s%s'%(i,j)], bins)\n",
    "        "
   ]
  },
  {
   "cell_type": "code",
   "execution_count": 643,
   "metadata": {},
   "outputs": [],
   "source": [
    "train['gassum'] = 0\n",
    "val['gassum'] = 0\n",
    "test['gassum'] = 0"
   ]
  },
  {
   "cell_type": "code",
   "execution_count": 644,
   "metadata": {},
   "outputs": [
    {
     "data": {
      "application/vnd.jupyter.widget-view+json": {
       "model_id": "e7a3afb9d18f41a0bf4895d1d9e443d4",
       "version_major": 2,
       "version_minor": 0
      },
      "text/plain": [
       "HBox(children=(IntProgress(value=0, max=5), HTML(value='')))"
      ]
     },
     "metadata": {},
     "output_type": "display_data"
    },
    {
     "data": {
      "application/vnd.jupyter.widget-view+json": {
       "model_id": "74d50dd2dd8543c5a98bc670ab7907f7",
       "version_major": 2,
       "version_minor": 0
      },
      "text/plain": [
       "HBox(children=(IntProgress(value=0, max=3), HTML(value='')))"
      ]
     },
     "metadata": {},
     "output_type": "display_data"
    },
    {
     "data": {
      "application/vnd.jupyter.widget-view+json": {
       "model_id": "631333e768f946aaa65ba222fbbea757",
       "version_major": 2,
       "version_minor": 0
      },
      "text/plain": [
       "HBox(children=(IntProgress(value=0, max=3), HTML(value='')))"
      ]
     },
     "metadata": {},
     "output_type": "display_data"
    },
    {
     "data": {
      "application/vnd.jupyter.widget-view+json": {
       "model_id": "cfa51bc46a8742028ac285112b0d772d",
       "version_major": 2,
       "version_minor": 0
      },
      "text/plain": [
       "HBox(children=(IntProgress(value=0, max=3), HTML(value='')))"
      ]
     },
     "metadata": {},
     "output_type": "display_data"
    },
    {
     "data": {
      "application/vnd.jupyter.widget-view+json": {
       "model_id": "f27ff7c188e44f4898f8dc472f881efd",
       "version_major": 2,
       "version_minor": 0
      },
      "text/plain": [
       "HBox(children=(IntProgress(value=0, max=3), HTML(value='')))"
      ]
     },
     "metadata": {},
     "output_type": "display_data"
    },
    {
     "data": {
      "application/vnd.jupyter.widget-view+json": {
       "model_id": "1e20b9d01eb247e6a6bc372cd2d3d4fa",
       "version_major": 2,
       "version_minor": 0
      },
      "text/plain": [
       "HBox(children=(IntProgress(value=0, max=3), HTML(value='')))"
      ]
     },
     "metadata": {},
     "output_type": "display_data"
    },
    {
     "name": "stdout",
     "output_type": "stream",
     "text": [
      "\n"
     ]
    },
    {
     "data": {
      "application/vnd.jupyter.widget-view+json": {
       "model_id": "fd84ef15db3645e2b1051b3b7badd1a0",
       "version_major": 2,
       "version_minor": 0
      },
      "text/plain": [
       "HBox(children=(IntProgress(value=0, max=5), HTML(value='')))"
      ]
     },
     "metadata": {},
     "output_type": "display_data"
    },
    {
     "data": {
      "application/vnd.jupyter.widget-view+json": {
       "model_id": "fe25a71076ca425eb418b8b9253f64e8",
       "version_major": 2,
       "version_minor": 0
      },
      "text/plain": [
       "HBox(children=(IntProgress(value=0, max=9), HTML(value='')))"
      ]
     },
     "metadata": {},
     "output_type": "display_data"
    },
    {
     "data": {
      "application/vnd.jupyter.widget-view+json": {
       "model_id": "bb37b092dbe24315a04fac23c94d3e79",
       "version_major": 2,
       "version_minor": 0
      },
      "text/plain": [
       "HBox(children=(IntProgress(value=0, max=9), HTML(value='')))"
      ]
     },
     "metadata": {},
     "output_type": "display_data"
    },
    {
     "data": {
      "application/vnd.jupyter.widget-view+json": {
       "model_id": "ce2e9650326845f1b0b1770276bd8bc3",
       "version_major": 2,
       "version_minor": 0
      },
      "text/plain": [
       "HBox(children=(IntProgress(value=0, max=9), HTML(value='')))"
      ]
     },
     "metadata": {},
     "output_type": "display_data"
    },
    {
     "data": {
      "application/vnd.jupyter.widget-view+json": {
       "model_id": "85c2c22153944b80b7327d4f43f8d8d0",
       "version_major": 2,
       "version_minor": 0
      },
      "text/plain": [
       "HBox(children=(IntProgress(value=0, max=9), HTML(value='')))"
      ]
     },
     "metadata": {},
     "output_type": "display_data"
    },
    {
     "data": {
      "application/vnd.jupyter.widget-view+json": {
       "model_id": "a8f8d79de4c54c67b5ffa7845cd56a1a",
       "version_major": 2,
       "version_minor": 0
      },
      "text/plain": [
       "HBox(children=(IntProgress(value=0, max=9), HTML(value='')))"
      ]
     },
     "metadata": {},
     "output_type": "display_data"
    },
    {
     "name": "stdout",
     "output_type": "stream",
     "text": [
      "\n"
     ]
    }
   ],
   "source": [
    "from tqdm import tqdm_notebook\n",
    "for i in tqdm_notebook((4,5,6,7,8)):\n",
    "    for j in tqdm_notebook((10,11,12)):\n",
    "        train['gassum'] = train['gassum'] + train['gas_engry_us_201%s%s'%(i,j)]\n",
    "        val['gassum'] = val['gassum'] + val['gas_engry_us_201%s%s'%(i,j)]\n",
    "        test['gassum'] = test['gassum'] + test['gas_engry_us_201%s%s'%(i,j)]\n",
    "       \n",
    "for i in tqdm_notebook((4,5,6,7,8)):\n",
    "    for j in tqdm_notebook((1,2,3,4,5,6,7,8,9)):\n",
    "        train['gassum'] = train['gassum'] + train['gas_engry_us_201%s0%s'%(i,j)]\n",
    "        val['gassum'] = val['gassum'] + val['gas_engry_us_201%s0%s'%(i,j)]\n",
    "        test['gassum'] = test['gassum'] + test['gas_engry_us_201%s0%s'%(i,j)]"
   ]
  },
  {
   "cell_type": "code",
   "execution_count": 645,
   "metadata": {},
   "outputs": [
    {
     "data": {
      "application/vnd.jupyter.widget-view+json": {
       "model_id": "c0aaefcb3368438b93cebf252c16fe42",
       "version_major": 2,
       "version_minor": 0
      },
      "text/plain": [
       "HBox(children=(IntProgress(value=0, max=5), HTML(value='')))"
      ]
     },
     "metadata": {},
     "output_type": "display_data"
    },
    {
     "data": {
      "application/vnd.jupyter.widget-view+json": {
       "model_id": "264938f34c5548288b1a0ad473a0d60d",
       "version_major": 2,
       "version_minor": 0
      },
      "text/plain": [
       "HBox(children=(IntProgress(value=0, max=9), HTML(value='')))"
      ]
     },
     "metadata": {},
     "output_type": "display_data"
    },
    {
     "data": {
      "application/vnd.jupyter.widget-view+json": {
       "model_id": "17e7577986674129aed286d9ffc41db0",
       "version_major": 2,
       "version_minor": 0
      },
      "text/plain": [
       "HBox(children=(IntProgress(value=0, max=9), HTML(value='')))"
      ]
     },
     "metadata": {},
     "output_type": "display_data"
    },
    {
     "data": {
      "application/vnd.jupyter.widget-view+json": {
       "model_id": "b6d5f95d971a4f9a89aabaf865e4a034",
       "version_major": 2,
       "version_minor": 0
      },
      "text/plain": [
       "HBox(children=(IntProgress(value=0, max=9), HTML(value='')))"
      ]
     },
     "metadata": {},
     "output_type": "display_data"
    },
    {
     "data": {
      "application/vnd.jupyter.widget-view+json": {
       "model_id": "09144e81d6e3466c8d0f9d5b7744d201",
       "version_major": 2,
       "version_minor": 0
      },
      "text/plain": [
       "HBox(children=(IntProgress(value=0, max=9), HTML(value='')))"
      ]
     },
     "metadata": {},
     "output_type": "display_data"
    },
    {
     "data": {
      "application/vnd.jupyter.widget-view+json": {
       "model_id": "788bfa14fb844ea2b7771fb05bb922d7",
       "version_major": 2,
       "version_minor": 0
      },
      "text/plain": [
       "HBox(children=(IntProgress(value=0, max=9), HTML(value='')))"
      ]
     },
     "metadata": {},
     "output_type": "display_data"
    },
    {
     "name": "stdout",
     "output_type": "stream",
     "text": [
      "\n"
     ]
    }
   ],
   "source": [
    "from tqdm import tqdm_notebook\n",
    "for i in tqdm_notebook((4,5,6,7,8)):\n",
    "    for j in tqdm_notebook((1,2,3,4,5,6,7,8,9)):\n",
    "        bins = np.linspace(0, 1000000, 1000)\n",
    "        train['ele_engry_us_201%s0%s'%(i,j)] = np.digitize(train['ele_engry_us_201%s0%s'%(i,j)], bins)\n",
    "        bins = np.linspace(0, 1000000, 1000)\n",
    "        val['ele_engry_us_201%s0%s'%(i,j)] = np.digitize(val['ele_engry_us_201%s0%s'%(i,j)], bins)\n",
    "        bins = np.linspace(0, 1000000, 1000)\n",
    "        test['ele_engry_us_201%s0%s'%(i,j)] = np.digitize(test['ele_engry_us_201%s0%s'%(i,j)], bins)\n",
    "\n"
   ]
  },
  {
   "cell_type": "code",
   "execution_count": 646,
   "metadata": {},
   "outputs": [],
   "source": [
    "train['elesum'] = 0\n",
    "val['elesum'] = 0\n",
    "test['elesum'] = 0"
   ]
  },
  {
   "cell_type": "code",
   "execution_count": 647,
   "metadata": {},
   "outputs": [
    {
     "data": {
      "application/vnd.jupyter.widget-view+json": {
       "model_id": "10d245f599f24fa5b1954748c0fdedb5",
       "version_major": 2,
       "version_minor": 0
      },
      "text/plain": [
       "HBox(children=(IntProgress(value=0, max=5), HTML(value='')))"
      ]
     },
     "metadata": {},
     "output_type": "display_data"
    },
    {
     "data": {
      "application/vnd.jupyter.widget-view+json": {
       "model_id": "9d40997cb51d4256b92fc2af75c9c34a",
       "version_major": 2,
       "version_minor": 0
      },
      "text/plain": [
       "HBox(children=(IntProgress(value=0, max=3), HTML(value='')))"
      ]
     },
     "metadata": {},
     "output_type": "display_data"
    },
    {
     "data": {
      "application/vnd.jupyter.widget-view+json": {
       "model_id": "7fa8ef1edeb7401a81d401efae9e8a4e",
       "version_major": 2,
       "version_minor": 0
      },
      "text/plain": [
       "HBox(children=(IntProgress(value=0, max=3), HTML(value='')))"
      ]
     },
     "metadata": {},
     "output_type": "display_data"
    },
    {
     "data": {
      "application/vnd.jupyter.widget-view+json": {
       "model_id": "3d4f7851725146e59842fe0aad98344b",
       "version_major": 2,
       "version_minor": 0
      },
      "text/plain": [
       "HBox(children=(IntProgress(value=0, max=3), HTML(value='')))"
      ]
     },
     "metadata": {},
     "output_type": "display_data"
    },
    {
     "data": {
      "application/vnd.jupyter.widget-view+json": {
       "model_id": "d72ab21d8833465a8f6a837dd49471d2",
       "version_major": 2,
       "version_minor": 0
      },
      "text/plain": [
       "HBox(children=(IntProgress(value=0, max=3), HTML(value='')))"
      ]
     },
     "metadata": {},
     "output_type": "display_data"
    },
    {
     "data": {
      "application/vnd.jupyter.widget-view+json": {
       "model_id": "d6bcc289fa3a40da8427970dfb6030dc",
       "version_major": 2,
       "version_minor": 0
      },
      "text/plain": [
       "HBox(children=(IntProgress(value=0, max=3), HTML(value='')))"
      ]
     },
     "metadata": {},
     "output_type": "display_data"
    },
    {
     "name": "stdout",
     "output_type": "stream",
     "text": [
      "\n"
     ]
    },
    {
     "data": {
      "application/vnd.jupyter.widget-view+json": {
       "model_id": "dcb08f079ff54c4790c0ba121dfd691b",
       "version_major": 2,
       "version_minor": 0
      },
      "text/plain": [
       "HBox(children=(IntProgress(value=0, max=5), HTML(value='')))"
      ]
     },
     "metadata": {},
     "output_type": "display_data"
    },
    {
     "data": {
      "application/vnd.jupyter.widget-view+json": {
       "model_id": "6f0f737a3bec4b3b9470f9ca36bd8c44",
       "version_major": 2,
       "version_minor": 0
      },
      "text/plain": [
       "HBox(children=(IntProgress(value=0, max=9), HTML(value='')))"
      ]
     },
     "metadata": {},
     "output_type": "display_data"
    },
    {
     "data": {
      "application/vnd.jupyter.widget-view+json": {
       "model_id": "1ff6d971789c4131bb2a36519ba00bb5",
       "version_major": 2,
       "version_minor": 0
      },
      "text/plain": [
       "HBox(children=(IntProgress(value=0, max=9), HTML(value='')))"
      ]
     },
     "metadata": {},
     "output_type": "display_data"
    },
    {
     "data": {
      "application/vnd.jupyter.widget-view+json": {
       "model_id": "a32cb3f21c424f49a0e0642bfd8c4542",
       "version_major": 2,
       "version_minor": 0
      },
      "text/plain": [
       "HBox(children=(IntProgress(value=0, max=9), HTML(value='')))"
      ]
     },
     "metadata": {},
     "output_type": "display_data"
    },
    {
     "data": {
      "application/vnd.jupyter.widget-view+json": {
       "model_id": "036111e321d9455e9a17f6287e6842ed",
       "version_major": 2,
       "version_minor": 0
      },
      "text/plain": [
       "HBox(children=(IntProgress(value=0, max=9), HTML(value='')))"
      ]
     },
     "metadata": {},
     "output_type": "display_data"
    },
    {
     "data": {
      "application/vnd.jupyter.widget-view+json": {
       "model_id": "f0d5895895ad43828160321dd3923236",
       "version_major": 2,
       "version_minor": 0
      },
      "text/plain": [
       "HBox(children=(IntProgress(value=0, max=9), HTML(value='')))"
      ]
     },
     "metadata": {},
     "output_type": "display_data"
    },
    {
     "name": "stdout",
     "output_type": "stream",
     "text": [
      "\n"
     ]
    }
   ],
   "source": [
    "from tqdm import tqdm_notebook\n",
    "for i in tqdm_notebook((4,5,6,7,8)):\n",
    "    for j in tqdm_notebook((10,11,12)):\n",
    "        train['elesum'] = train['elesum'] + train['ele_engry_us_201%s%s'%(i,j)]\n",
    "        val['elesum'] = val['elesum'] + val['ele_engry_us_201%s%s'%(i,j)]\n",
    "        test['elesum'] = test['elesum'] + test['ele_engry_us_201%s%s'%(i,j)]\n",
    "       \n",
    "for i in tqdm_notebook((4,5,6,7,8)):\n",
    "    for j in tqdm_notebook((1,2,3,4,5,6,7,8,9)):\n",
    "        train['elesum'] = train['elesum'] + train['ele_engry_us_201%s0%s'%(i,j)]\n",
    "        val['elesum'] = val['elesum'] + val['ele_engry_us_201%s0%s'%(i,j)]\n",
    "        test['elesum'] = test['elesum'] + test['ele_engry_us_201%s0%s'%(i,j)]"
   ]
  },
  {
   "cell_type": "code",
   "execution_count": 648,
   "metadata": {},
   "outputs": [
    {
     "data": {
      "application/vnd.jupyter.widget-view+json": {
       "model_id": "2716861a65df46db921609f67d33a4cb",
       "version_major": 2,
       "version_minor": 0
      },
      "text/plain": [
       "HBox(children=(IntProgress(value=0, max=5), HTML(value='')))"
      ]
     },
     "metadata": {},
     "output_type": "display_data"
    },
    {
     "data": {
      "application/vnd.jupyter.widget-view+json": {
       "model_id": "cae5ebbc0e694050a97b19f92800709d",
       "version_major": 2,
       "version_minor": 0
      },
      "text/plain": [
       "HBox(children=(IntProgress(value=0, max=9), HTML(value='')))"
      ]
     },
     "metadata": {},
     "output_type": "display_data"
    },
    {
     "data": {
      "application/vnd.jupyter.widget-view+json": {
       "model_id": "0d525a321f234a90a00372f817aa030c",
       "version_major": 2,
       "version_minor": 0
      },
      "text/plain": [
       "HBox(children=(IntProgress(value=0, max=9), HTML(value='')))"
      ]
     },
     "metadata": {},
     "output_type": "display_data"
    },
    {
     "data": {
      "application/vnd.jupyter.widget-view+json": {
       "model_id": "82714f1bd6a84870b76bf44d803ab2e8",
       "version_major": 2,
       "version_minor": 0
      },
      "text/plain": [
       "HBox(children=(IntProgress(value=0, max=9), HTML(value='')))"
      ]
     },
     "metadata": {},
     "output_type": "display_data"
    },
    {
     "data": {
      "application/vnd.jupyter.widget-view+json": {
       "model_id": "2250c0850a0446788ef1c8249b004a33",
       "version_major": 2,
       "version_minor": 0
      },
      "text/plain": [
       "HBox(children=(IntProgress(value=0, max=9), HTML(value='')))"
      ]
     },
     "metadata": {},
     "output_type": "display_data"
    },
    {
     "data": {
      "application/vnd.jupyter.widget-view+json": {
       "model_id": "2a1cbeea48f1491392ba6c42e3b2fced",
       "version_major": 2,
       "version_minor": 0
      },
      "text/plain": [
       "HBox(children=(IntProgress(value=0, max=9), HTML(value='')))"
      ]
     },
     "metadata": {},
     "output_type": "display_data"
    },
    {
     "name": "stdout",
     "output_type": "stream",
     "text": [
      "\n"
     ]
    },
    {
     "data": {
      "application/vnd.jupyter.widget-view+json": {
       "model_id": "0732c7cb44ad42f79c568ddb23e97d6c",
       "version_major": 2,
       "version_minor": 0
      },
      "text/plain": [
       "HBox(children=(IntProgress(value=0, max=5), HTML(value='')))"
      ]
     },
     "metadata": {},
     "output_type": "display_data"
    },
    {
     "data": {
      "application/vnd.jupyter.widget-view+json": {
       "model_id": "190eb87c5f624d67b7c6871c5ba5b3f2",
       "version_major": 2,
       "version_minor": 0
      },
      "text/plain": [
       "HBox(children=(IntProgress(value=0, max=3), HTML(value='')))"
      ]
     },
     "metadata": {},
     "output_type": "display_data"
    },
    {
     "data": {
      "application/vnd.jupyter.widget-view+json": {
       "model_id": "a9fa67c1fac543599e1bb3195180b6c7",
       "version_major": 2,
       "version_minor": 0
      },
      "text/plain": [
       "HBox(children=(IntProgress(value=0, max=3), HTML(value='')))"
      ]
     },
     "metadata": {},
     "output_type": "display_data"
    },
    {
     "data": {
      "application/vnd.jupyter.widget-view+json": {
       "model_id": "848fb7dfd7494aad9097c21eab3d3e40",
       "version_major": 2,
       "version_minor": 0
      },
      "text/plain": [
       "HBox(children=(IntProgress(value=0, max=3), HTML(value='')))"
      ]
     },
     "metadata": {},
     "output_type": "display_data"
    },
    {
     "data": {
      "application/vnd.jupyter.widget-view+json": {
       "model_id": "7daadeb729ed4fddac22b3bf2142954a",
       "version_major": 2,
       "version_minor": 0
      },
      "text/plain": [
       "HBox(children=(IntProgress(value=0, max=3), HTML(value='')))"
      ]
     },
     "metadata": {},
     "output_type": "display_data"
    },
    {
     "data": {
      "application/vnd.jupyter.widget-view+json": {
       "model_id": "0d51a10f807c4a16a821050a05fdde5c",
       "version_major": 2,
       "version_minor": 0
      },
      "text/plain": [
       "HBox(children=(IntProgress(value=0, max=3), HTML(value='')))"
      ]
     },
     "metadata": {},
     "output_type": "display_data"
    },
    {
     "name": "stdout",
     "output_type": "stream",
     "text": [
      "\n"
     ]
    }
   ],
   "source": [
    "for i in tqdm_notebook((4,5,6,7,8)):\n",
    "    for j in tqdm_notebook((1,2,3,4,5,6,7,8,9)):       \n",
    "        train = train.drop(['ele_engry_us_201%s0%s'%(i,j)],1)\n",
    "        train = train.drop(['gas_engry_us_201%s0%s'%(i,j)],1)\n",
    "\n",
    "\n",
    "        val = val.drop(['ele_engry_us_201%s0%s'%(i,j)],1)\n",
    "        val = val.drop(['gas_engry_us_201%s0%s'%(i,j)],1)\n",
    "\n",
    "\n",
    "        test = test.drop(['ele_engry_us_201%s0%s'%(i,j)],1)\n",
    "        test = test.drop(['gas_engry_us_201%s0%s'%(i,j)],1)\n",
    "for i in tqdm_notebook((4,5,6,7,8)):\n",
    "    for j in tqdm_notebook((10,11,12)):       \n",
    "        train = train.drop(['ele_engry_us_201%s%s'%(i,j)],1)\n",
    "        train = train.drop(['gas_engry_us_201%s%s'%(i,j)],1)\n",
    "\n",
    "\n",
    "        val = val.drop(['ele_engry_us_201%s%s'%(i,j)],1)\n",
    "        val = val.drop(['gas_engry_us_201%s%s'%(i,j)],1)\n",
    "\n",
    "\n",
    "        test = test.drop(['ele_engry_us_201%s%s'%(i,j)],1)\n",
    "        test = test.drop(['gas_engry_us_201%s%s'%(i,j)],1)"
   ]
  },
  {
   "cell_type": "code",
   "execution_count": 649,
   "metadata": {},
   "outputs": [],
   "source": [
    "# train['q'] = 0\n",
    "# train['q'] = train['elesum'] / train['ttl_ar']"
   ]
  },
  {
   "cell_type": "code",
   "execution_count": 650,
   "metadata": {},
   "outputs": [],
   "source": [
    "# val['q'] = 0\n",
    "# val['q'] = val['elesum'] / val['ttl_ar']"
   ]
  },
  {
   "cell_type": "code",
   "execution_count": 651,
   "metadata": {},
   "outputs": [],
   "source": [
    "# test['q'] = 0\n",
    "# test['q'] = test['elesum'] / test['ttl_ar']"
   ]
  },
  {
   "cell_type": "code",
   "execution_count": 652,
   "metadata": {},
   "outputs": [],
   "source": [
    "# train['p'] = 0\n",
    "# train['p'] = train['gassum'] / train['ttl_ar']\n",
    "\n",
    "# val['p'] = 0\n",
    "# val['p'] = val['gassum'] / val['ttl_ar']\n",
    "\n",
    "# test['p'] = 0\n",
    "# test['p'] = test['gassum'] / test['ttl_ar']"
   ]
  },
  {
   "cell_type": "code",
   "execution_count": 653,
   "metadata": {},
   "outputs": [],
   "source": [
    "# train['t'] = 0\n",
    "# train['t'] = train['elesum'] + train['gassum']\n",
    "# val['t'] = 0\n",
    "# val['t'] = val['elesum'] + val['gassum']\n",
    "# test['t'] = 0\n",
    "# test['t'] = test['elesum'] + test['gassum']"
   ]
  },
  {
   "cell_type": "code",
   "execution_count": 654,
   "metadata": {},
   "outputs": [],
   "source": [
    "# train['tt'] = 0\n",
    "# train['tt'] = train['t'] / train['ttl_ar']\n",
    "# test['tt'] = 0\n",
    "# test['tt'] = test['t'] / test['ttl_ar']\n",
    "# val['tt'] = 0\n",
    "# val['tt'] = val['t'] / val['ttl_ar']"
   ]
  },
  {
   "cell_type": "code",
   "execution_count": 15,
   "metadata": {},
   "outputs": [],
   "source": [
    "bins = np.linspace(0,800000, 1000)\n",
    "train['ttl_ar'] = np.digitize(train['ttl_ar'], bins)\n",
    "bins = np.linspace(0,800000, 1000)\n",
    "val['ttl_ar'] = np.digitize(val['ttl_ar'], bins)\n",
    "bins = np.linspace(0,800000, 1000)\n",
    "test['ttl_ar'] = np.digitize(test['ttl_ar'], bins)\n"
   ]
  },
  {
   "cell_type": "code",
   "execution_count": null,
   "metadata": {},
   "outputs": [],
   "source": [
    "train"
   ]
  },
  {
   "cell_type": "code",
   "execution_count": 656,
   "metadata": {},
   "outputs": [],
   "source": [
    "X_train = train.drop(['fr_yn'],axis = 1)\n",
    "X_test = val.drop(['fr_yn'],axis = 1)\n",
    "y_train = train['fr_yn']\n",
    "y_test = val['fr_yn']\n",
    "X = pd.concat([X_train,X_test])\n",
    "y = pd.concat([y_train,y_test])"
   ]
  },
  {
   "cell_type": "code",
   "execution_count": 657,
   "metadata": {},
   "outputs": [],
   "source": [
    "\n",
    "X_train.drop(['id'], axis = 1, inplace = True)\n",
    "test.drop(['id'], axis = 1, inplace = True)\n",
    "X_test.drop(['id'], axis = 1, inplace = True)"
   ]
  },
  {
   "cell_type": "code",
   "execution_count": 658,
   "metadata": {},
   "outputs": [
    {
     "data": {
      "text/plain": [
       "7657"
      ]
     },
     "execution_count": 658,
     "metadata": {},
     "output_type": "execute_result"
    }
   ],
   "source": [
    "train['fr_yn'].sum()"
   ]
  },
  {
   "cell_type": "code",
   "execution_count": 659,
   "metadata": {},
   "outputs": [
    {
     "data": {
      "text/plain": [
       "38285"
      ]
     },
     "execution_count": 659,
     "metadata": {},
     "output_type": "execute_result"
    }
   ],
   "source": [
    "len(train)"
   ]
  },
  {
   "cell_type": "code",
   "execution_count": 661,
   "metadata": {},
   "outputs": [
    {
     "name": "stdout",
     "output_type": "stream",
     "text": [
      "1 : F1 0.49167145318782307\n",
      "2 : F1 0.49123814995690895\n",
      "3 : F1 0.49123814995690895\n",
      "4 : F1 0.4913892078071182\n",
      "5 : F1 0.4913892078071182\n",
      "6 : F1 0.49154000573558937\n"
     ]
    },
    {
     "ename": "KeyboardInterrupt",
     "evalue": "",
     "output_type": "error",
     "traceback": [
      "\u001b[1;31m---------------------------------------------------------------------------\u001b[0m",
      "\u001b[1;31mKeyboardInterrupt\u001b[0m                         Traceback (most recent call last)",
      "\u001b[1;32m<ipython-input-661-9b3c93bff4e2>\u001b[0m in \u001b[0;36m<module>\u001b[1;34m\u001b[0m\n\u001b[0;32m     12\u001b[0m                              \u001b[0mmetrics\u001b[0m \u001b[1;33m=\u001b[0m\u001b[1;34m'auc'\u001b[0m\u001b[1;33m\u001b[0m\u001b[1;33m\u001b[0m\u001b[0m\n\u001b[0;32m     13\u001b[0m                             )\n\u001b[1;32m---> 14\u001b[1;33m     \u001b[0mmodel\u001b[0m \u001b[1;33m=\u001b[0m \u001b[0mLgb\u001b[0m\u001b[1;33m.\u001b[0m\u001b[0mfit\u001b[0m\u001b[1;33m(\u001b[0m\u001b[0mX_train\u001b[0m\u001b[1;33m,\u001b[0m \u001b[0my_train\u001b[0m\u001b[1;33m)\u001b[0m\u001b[1;33m\u001b[0m\u001b[1;33m\u001b[0m\u001b[0m\n\u001b[0m\u001b[0;32m     15\u001b[0m \u001b[1;33m\u001b[0m\u001b[0m\n\u001b[0;32m     16\u001b[0m \u001b[1;31m#test를 통한 모델 검증\u001b[0m\u001b[1;33m\u001b[0m\u001b[1;33m\u001b[0m\u001b[1;33m\u001b[0m\u001b[0m\n",
      "\u001b[1;32mc:\\anaconda3\\lib\\site-packages\\lightgbm\\sklearn.py\u001b[0m in \u001b[0;36mfit\u001b[1;34m(self, X, y, sample_weight, init_score, eval_set, eval_names, eval_sample_weight, eval_class_weight, eval_init_score, eval_metric, early_stopping_rounds, verbose, feature_name, categorical_feature, callbacks)\u001b[0m\n\u001b[0;32m    742\u001b[0m                                         \u001b[0mverbose\u001b[0m\u001b[1;33m=\u001b[0m\u001b[0mverbose\u001b[0m\u001b[1;33m,\u001b[0m \u001b[0mfeature_name\u001b[0m\u001b[1;33m=\u001b[0m\u001b[0mfeature_name\u001b[0m\u001b[1;33m,\u001b[0m\u001b[1;33m\u001b[0m\u001b[1;33m\u001b[0m\u001b[0m\n\u001b[0;32m    743\u001b[0m                                         \u001b[0mcategorical_feature\u001b[0m\u001b[1;33m=\u001b[0m\u001b[0mcategorical_feature\u001b[0m\u001b[1;33m,\u001b[0m\u001b[1;33m\u001b[0m\u001b[1;33m\u001b[0m\u001b[0m\n\u001b[1;32m--> 744\u001b[1;33m                                         callbacks=callbacks)\n\u001b[0m\u001b[0;32m    745\u001b[0m         \u001b[1;32mreturn\u001b[0m \u001b[0mself\u001b[0m\u001b[1;33m\u001b[0m\u001b[1;33m\u001b[0m\u001b[0m\n\u001b[0;32m    746\u001b[0m \u001b[1;33m\u001b[0m\u001b[0m\n",
      "\u001b[1;32mc:\\anaconda3\\lib\\site-packages\\lightgbm\\sklearn.py\u001b[0m in \u001b[0;36mfit\u001b[1;34m(self, X, y, sample_weight, init_score, group, eval_set, eval_names, eval_sample_weight, eval_class_weight, eval_init_score, eval_group, eval_metric, early_stopping_rounds, verbose, feature_name, categorical_feature, callbacks)\u001b[0m\n\u001b[0;32m    542\u001b[0m                               \u001b[0mverbose_eval\u001b[0m\u001b[1;33m=\u001b[0m\u001b[0mverbose\u001b[0m\u001b[1;33m,\u001b[0m \u001b[0mfeature_name\u001b[0m\u001b[1;33m=\u001b[0m\u001b[0mfeature_name\u001b[0m\u001b[1;33m,\u001b[0m\u001b[1;33m\u001b[0m\u001b[1;33m\u001b[0m\u001b[0m\n\u001b[0;32m    543\u001b[0m                               \u001b[0mcategorical_feature\u001b[0m\u001b[1;33m=\u001b[0m\u001b[0mcategorical_feature\u001b[0m\u001b[1;33m,\u001b[0m\u001b[1;33m\u001b[0m\u001b[1;33m\u001b[0m\u001b[0m\n\u001b[1;32m--> 544\u001b[1;33m                               callbacks=callbacks)\n\u001b[0m\u001b[0;32m    545\u001b[0m \u001b[1;33m\u001b[0m\u001b[0m\n\u001b[0;32m    546\u001b[0m         \u001b[1;32mif\u001b[0m \u001b[0mevals_result\u001b[0m\u001b[1;33m:\u001b[0m\u001b[1;33m\u001b[0m\u001b[1;33m\u001b[0m\u001b[0m\n",
      "\u001b[1;32mc:\\anaconda3\\lib\\site-packages\\lightgbm\\engine.py\u001b[0m in \u001b[0;36mtrain\u001b[1;34m(params, train_set, num_boost_round, valid_sets, valid_names, fobj, feval, init_model, feature_name, categorical_feature, early_stopping_rounds, evals_result, verbose_eval, learning_rates, keep_training_booster, callbacks)\u001b[0m\n\u001b[0;32m    216\u001b[0m                                     evaluation_result_list=None))\n\u001b[0;32m    217\u001b[0m \u001b[1;33m\u001b[0m\u001b[0m\n\u001b[1;32m--> 218\u001b[1;33m         \u001b[0mbooster\u001b[0m\u001b[1;33m.\u001b[0m\u001b[0mupdate\u001b[0m\u001b[1;33m(\u001b[0m\u001b[0mfobj\u001b[0m\u001b[1;33m=\u001b[0m\u001b[0mfobj\u001b[0m\u001b[1;33m)\u001b[0m\u001b[1;33m\u001b[0m\u001b[1;33m\u001b[0m\u001b[0m\n\u001b[0m\u001b[0;32m    219\u001b[0m \u001b[1;33m\u001b[0m\u001b[0m\n\u001b[0;32m    220\u001b[0m         \u001b[0mevaluation_result_list\u001b[0m \u001b[1;33m=\u001b[0m \u001b[1;33m[\u001b[0m\u001b[1;33m]\u001b[0m\u001b[1;33m\u001b[0m\u001b[1;33m\u001b[0m\u001b[0m\n",
      "\u001b[1;32mc:\\anaconda3\\lib\\site-packages\\lightgbm\\basic.py\u001b[0m in \u001b[0;36mupdate\u001b[1;34m(self, train_set, fobj)\u001b[0m\n\u001b[0;32m   1800\u001b[0m             _safe_call(_LIB.LGBM_BoosterUpdateOneIter(\n\u001b[0;32m   1801\u001b[0m                 \u001b[0mself\u001b[0m\u001b[1;33m.\u001b[0m\u001b[0mhandle\u001b[0m\u001b[1;33m,\u001b[0m\u001b[1;33m\u001b[0m\u001b[1;33m\u001b[0m\u001b[0m\n\u001b[1;32m-> 1802\u001b[1;33m                 ctypes.byref(is_finished)))\n\u001b[0m\u001b[0;32m   1803\u001b[0m             \u001b[0mself\u001b[0m\u001b[1;33m.\u001b[0m\u001b[0m__is_predicted_cur_iter\u001b[0m \u001b[1;33m=\u001b[0m \u001b[1;33m[\u001b[0m\u001b[1;32mFalse\u001b[0m \u001b[1;32mfor\u001b[0m \u001b[0m_\u001b[0m \u001b[1;32min\u001b[0m \u001b[0mrange_\u001b[0m\u001b[1;33m(\u001b[0m\u001b[0mself\u001b[0m\u001b[1;33m.\u001b[0m\u001b[0m__num_dataset\u001b[0m\u001b[1;33m)\u001b[0m\u001b[1;33m]\u001b[0m\u001b[1;33m\u001b[0m\u001b[1;33m\u001b[0m\u001b[0m\n\u001b[0;32m   1804\u001b[0m             \u001b[1;32mreturn\u001b[0m \u001b[0mis_finished\u001b[0m\u001b[1;33m.\u001b[0m\u001b[0mvalue\u001b[0m \u001b[1;33m==\u001b[0m \u001b[1;36m1\u001b[0m\u001b[1;33m\u001b[0m\u001b[1;33m\u001b[0m\u001b[0m\n",
      "\u001b[1;31mKeyboardInterrupt\u001b[0m: "
     ]
    }
   ],
   "source": [
    "#모델 생성 및 학습\n",
    "for i in range(300):\n",
    "    \n",
    "    import lightgbm as lgb\n",
    "    Lgb = lgb.LGBMClassifier(n_estimators=i+1000, \n",
    "                             silent=False, \n",
    "                             random_state =10, \n",
    "                             max_depth=18,\n",
    "                             num_leaves=128,\n",
    "                             learning_rate = 0.1,\n",
    "                             objective='binary',\n",
    "                             metrics ='auc'\n",
    "                            )\n",
    "    model = Lgb.fit(X_train, y_train)\n",
    "\n",
    "#test를 통한 모델 검증\n",
    "    predictions = model.predict(X_test)\n",
    "    proba = model.predict_proba(X_test)\n",
    "    from sklearn.metrics import accuracy_score, roc_auc_score\n",
    "    from sklearn.metrics import f1_score, recall_score\n",
    "    score = roc_auc_score(y_test, predictions)\n",
    "    score2 = accuracy_score(y_test, predictions)\n",
    "    score3 = f1_score(y_test, predictions)\n",
    "    score4 = recall_score(y_test, predictions)\n",
    "#     print('roc_auc_score:',score)\n",
    "#     print('accuracy_score:',score2)\n",
    "    print(i+1,\":\",'F1', score3)\n",
    "    #print('recall', score4)"
   ]
  },
  {
   "cell_type": "code",
   "execution_count": null,
   "metadata": {},
   "outputs": [],
   "source": [
    "predictions\n",
    "#54\n",
    "# roc_auc_score: 0.6914737170414987\n",
    "# accuracy_score: 0.8153087851551174\n",
    "#F1 0.5148"
   ]
  },
  {
   "cell_type": "code",
   "execution_count": null,
   "metadata": {},
   "outputs": [],
   "source": [
    "proba"
   ]
  },
  {
   "cell_type": "code",
   "execution_count": 377,
   "metadata": {},
   "outputs": [],
   "source": [
    "y = model.predict(test)\n",
    "y_prob = model.predict_proba(test)\n"
   ]
  },
  {
   "cell_type": "code",
   "execution_count": null,
   "metadata": {},
   "outputs": [],
   "source": [
    "y_prob"
   ]
  },
  {
   "cell_type": "code",
   "execution_count": 50,
   "metadata": {},
   "outputs": [
    {
     "data": {
      "text/plain": [
       "array([0, 1, 0, ..., 0, 0, 1], dtype=int8)"
      ]
     },
     "execution_count": 50,
     "metadata": {},
     "output_type": "execute_result"
    }
   ],
   "source": [
    "y"
   ]
  },
  {
   "cell_type": "code",
   "execution_count": 52,
   "metadata": {},
   "outputs": [
    {
     "data": {
      "text/plain": [
       "array([[9.99999938e-01, 6.17229811e-08],\n",
       "       [7.35424038e-01, 2.64575962e-01],\n",
       "       [9.99959758e-01, 4.02423327e-05],\n",
       "       ...,\n",
       "       [9.96727257e-01, 3.27274313e-03],\n",
       "       [9.62001801e-01, 3.79981993e-02],\n",
       "       [6.34868527e-02, 9.36513147e-01]])"
      ]
     },
     "execution_count": 52,
     "metadata": {},
     "output_type": "execute_result"
    }
   ],
   "source": [
    "y_prob2"
   ]
  },
  {
   "cell_type": "code",
   "execution_count": 47,
   "metadata": {},
   "outputs": [],
   "source": [
    "y2 = model.predict(test)\n",
    "y_prob2 = model.predict_proba(test)\n"
   ]
  },
  {
   "cell_type": "code",
   "execution_count": 68,
   "metadata": {},
   "outputs": [],
   "source": [
    "a = pd.DataFrame((y_prob+ y_prob)/2)"
   ]
  },
  {
   "cell_type": "code",
   "execution_count": 69,
   "metadata": {},
   "outputs": [],
   "source": [
    "a['tf'] = a[0] < a[1]"
   ]
  },
  {
   "cell_type": "code",
   "execution_count": 73,
   "metadata": {},
   "outputs": [
    {
     "data": {
      "text/plain": [
       "0       False\n",
       "1        True\n",
       "2       False\n",
       "3       False\n",
       "4       False\n",
       "5       False\n",
       "6       False\n",
       "7       False\n",
       "8       False\n",
       "9       False\n",
       "10      False\n",
       "11      False\n",
       "12      False\n",
       "13      False\n",
       "14      False\n",
       "15       True\n",
       "16       True\n",
       "17       True\n",
       "18      False\n",
       "19      False\n",
       "20      False\n",
       "21      False\n",
       "22      False\n",
       "23      False\n",
       "24      False\n",
       "25      False\n",
       "26      False\n",
       "27      False\n",
       "28      False\n",
       "29      False\n",
       "        ...  \n",
       "2927     True\n",
       "2928    False\n",
       "2929    False\n",
       "2930    False\n",
       "2931    False\n",
       "2932     True\n",
       "2933    False\n",
       "2934    False\n",
       "2935    False\n",
       "2936    False\n",
       "2937    False\n",
       "2938    False\n",
       "2939    False\n",
       "2940    False\n",
       "2941     True\n",
       "2942    False\n",
       "2943    False\n",
       "2944    False\n",
       "2945    False\n",
       "2946    False\n",
       "2947    False\n",
       "2948     True\n",
       "2949     True\n",
       "2950    False\n",
       "2951     True\n",
       "2952    False\n",
       "2953    False\n",
       "2954    False\n",
       "2955    False\n",
       "2956     True\n",
       "Name: tf, Length: 2957, dtype: bool"
      ]
     },
     "execution_count": 73,
     "metadata": {},
     "output_type": "execute_result"
    }
   ],
   "source": [
    "a['tf']"
   ]
  },
  {
   "cell_type": "code",
   "execution_count": 63,
   "metadata": {},
   "outputs": [],
   "source": [
    "a['tf'] = a['tf'].map({False:'N',True:'Y'})"
   ]
  },
  {
   "cell_type": "code",
   "execution_count": 76,
   "metadata": {},
   "outputs": [],
   "source": [
    "sub['fr_yn'] = a['tf']"
   ]
  },
  {
   "cell_type": "code",
   "execution_count": 378,
   "metadata": {},
   "outputs": [
    {
     "data": {
      "text/html": [
       "<div>\n",
       "<style scoped>\n",
       "    .dataframe tbody tr th:only-of-type {\n",
       "        vertical-align: middle;\n",
       "    }\n",
       "\n",
       "    .dataframe tbody tr th {\n",
       "        vertical-align: top;\n",
       "    }\n",
       "\n",
       "    .dataframe thead th {\n",
       "        text-align: right;\n",
       "    }\n",
       "</style>\n",
       "<table border=\"1\" class=\"dataframe\">\n",
       "  <thead>\n",
       "    <tr style=\"text-align: right;\">\n",
       "      <th></th>\n",
       "      <th>fr_yn</th>\n",
       "    </tr>\n",
       "  </thead>\n",
       "  <tbody>\n",
       "    <tr>\n",
       "      <th>0</th>\n",
       "      <td>N</td>\n",
       "    </tr>\n",
       "    <tr>\n",
       "      <th>1</th>\n",
       "      <td>Y</td>\n",
       "    </tr>\n",
       "    <tr>\n",
       "      <th>2</th>\n",
       "      <td>N</td>\n",
       "    </tr>\n",
       "    <tr>\n",
       "      <th>3</th>\n",
       "      <td>N</td>\n",
       "    </tr>\n",
       "    <tr>\n",
       "      <th>4</th>\n",
       "      <td>N</td>\n",
       "    </tr>\n",
       "  </tbody>\n",
       "</table>\n",
       "</div>"
      ],
      "text/plain": [
       "  fr_yn\n",
       "0     N\n",
       "1     Y\n",
       "2     N\n",
       "3     N\n",
       "4     N"
      ]
     },
     "execution_count": 378,
     "metadata": {},
     "output_type": "execute_result"
    }
   ],
   "source": [
    "sub['fr_yn'] = y\n",
    "sub['fr_yn'] = sub['fr_yn'].map({0:'N', 1:'Y'})\n",
    "sub.head()"
   ]
  },
  {
   "cell_type": "code",
   "execution_count": 379,
   "metadata": {},
   "outputs": [],
   "source": [
    "sub.to_csv('tmddnjs94_화재예측과제_진우14파라미터.csv', index=False)"
   ]
  },
  {
   "cell_type": "code",
   "execution_count": 74,
   "metadata": {},
   "outputs": [],
   "source": [
    "a['tf']\n",
    "a['tf'] = pd.Categorical(a['tf']).codes"
   ]
  },
  {
   "cell_type": "code",
   "execution_count": 78,
   "metadata": {},
   "outputs": [],
   "source": [
    "sub['fr_yn'] = sub['fr_yn'].map({0:'N', 1:'Y'})"
   ]
  },
  {
   "cell_type": "code",
   "execution_count": 85,
   "metadata": {},
   "outputs": [
    {
     "name": "stdout",
     "output_type": "stream",
     "text": [
      "<class 'pandas.core.frame.DataFrame'>\n",
      "RangeIndex: 2957 entries, 0 to 2956\n",
      "Data columns (total 1 columns):\n",
      "fr_yn    2957 non-null object\n",
      "dtypes: object(1)\n",
      "memory usage: 23.2+ KB\n"
     ]
    }
   ],
   "source": [
    "sub.info()"
   ]
  }
 ],
 "metadata": {
  "kernelspec": {
   "display_name": "Python 3",
   "language": "python",
   "name": "python3"
  },
  "language_info": {
   "codemirror_mode": {
    "name": "ipython",
    "version": 3
   },
   "file_extension": ".py",
   "mimetype": "text/x-python",
   "name": "python",
   "nbconvert_exporter": "python",
   "pygments_lexer": "ipython3",
   "version": "3.6.8"
  },
  "toc": {
   "base_numbering": 1,
   "nav_menu": {},
   "number_sections": true,
   "sideBar": true,
   "skip_h1_title": false,
   "title_cell": "Table of Contents",
   "title_sidebar": "Contents",
   "toc_cell": false,
   "toc_position": {},
   "toc_section_display": true,
   "toc_window_display": false
  }
 },
 "nbformat": 4,
 "nbformat_minor": 2
}
